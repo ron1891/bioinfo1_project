{
  "nbformat": 4,
  "nbformat_minor": 0,
  "metadata": {
    "colab": {
      "name": "CoLab_Free_Project_2022.ipynb",
      "provenance": [],
      "collapsed_sections": [],
      "include_colab_link": true
    },
    "kernelspec": {
      "name": "python3",
      "display_name": "Python 3"
    }
  },
  "cells": [
    {
      "cell_type": "markdown",
      "metadata": {
        "id": "view-in-github",
        "colab_type": "text"
      },
      "source": [
        "<a href=\"https://colab.research.google.com/github/ron1891/bioinfo1_project/blob/main/CoLab_Free_Project_2022.ipynb\" target=\"_parent\"><img src=\"https://colab.research.google.com/assets/colab-badge.svg\" alt=\"Open In Colab\"/></a>"
      ]
    },
    {
      "cell_type": "markdown",
      "metadata": {
        "id": "qSmNiRknPfSy"
      },
      "source": [
        "# 생물정보학 및 실습 1 - Free Project용 환경 셋업\n",
        "\n",
        "```\n",
        "생물정보학 및 실습 1\n",
        "서울대학교 협동과정 생물정보학전공 2022년 1학기\n",
        "\n",
        "생물정보학 협동과정 석사과정 송한별\n",
        "2022-25442\n",
        "\n",
        "```\n"
      ]
    },
    {
      "cell_type": "markdown",
      "metadata": {
        "id": "ojAx9SdvPfSz"
      },
      "source": [
        "## Google Drive 마운트\n",
        "\n",
        "데이터 파일들을 불러오고 저장하기 위해서 Google Drive를 연결합니다."
      ]
    },
    {
      "cell_type": "code",
      "metadata": {
        "id": "SbkVVS-CPfSz",
        "colab": {
          "base_uri": "https://localhost:8080/"
        },
        "outputId": "5ef3638e-284b-40fd-9864-4ae07e8cbdd2"
      },
      "source": [
        "from google.colab import drive\n",
        "drive.mount('/content/drive')"
      ],
      "execution_count": 4,
      "outputs": [
        {
          "output_type": "stream",
          "name": "stdout",
          "text": [
            "Drive already mounted at /content/drive; to attempt to forcibly remount, call drive.mount(\"/content/drive\", force_remount=True).\n"
          ]
        }
      ]
    },
    {
      "cell_type": "markdown",
      "metadata": {
        "id": "BjtCUaGSPfSz"
      },
      "source": [
        "## 실습용 Bioconda 환경 설치하기\n"
      ]
    },
    {
      "cell_type": "code",
      "metadata": {
        "id": "g-vfGi3ePfSz",
        "colab": {
          "base_uri": "https://localhost:8080/"
        },
        "outputId": "f2f5feb3-0388-4a07-a454-02a4ee830f16"
      },
      "source": [
        "!git clone https://github.com/hyeshik/colab-biolab.git\n",
        "!cd colab-biolab && bash tools/setup.sh\n",
        "exec(open('colab-biolab/tools/activate_conda.py').read())"
      ],
      "execution_count": 5,
      "outputs": [
        {
          "output_type": "stream",
          "name": "stdout",
          "text": [
            "fatal: destination path 'colab-biolab' already exists and is not an empty directory.\n",
            "./\n",
            "./root/\n",
            "./root/.bashrc.biolab\n",
            "./root/.tmux.conf\n",
            "./root/.bin.priority/\n",
            "./root/.bin.priority/pip\n",
            "./root/.bin.priority/pip3\n",
            "./root/.bin.priority/pip2\n",
            "./root/.profile\n",
            "./root/.vimrc\n",
            "./root/.condarc\n",
            "PREFIX=/root/conda\n",
            "Unpacking payload ...\n",
            "Collecting package metadata (current_repodata.json): - \b\b\\ \b\bdone\n",
            "Solving environment: / \b\b- \b\b\\ \b\b| \b\bdone\n",
            "\n",
            "# All requested packages already installed.\n",
            "\n",
            "installation finished.\n",
            "WARNING:\n",
            "    You currently have a PYTHONPATH environment variable set. This may cause\n",
            "    unexpected behavior when running the Python interpreter in Miniconda3.\n",
            "    For best results, please verify that your PYTHONPATH only points to\n",
            "    directories of packages that are compatible with the Python interpreter\n",
            "    in Miniconda3: /root/conda\n",
            "Collecting package metadata (current_repodata.json): - \b\b\\ \b\b| \b\b/ \b\b- \b\b\\ \b\b| \b\b/ \b\b- \b\b\\ \b\b| \b\b/ \b\b- \b\b\\ \b\b| \b\b/ \b\b- \b\b\\ \b\b| \b\b/ \b\b- \b\b\\ \b\b| \b\b/ \b\b- \b\b\\ \b\b| \b\b/ \b\bdone\n",
            "Solving environment: \\ \b\b| \b\b/ \b\b- \b\b\\ \b\b| \b\b/ \b\b- \b\b\\ \b\b| \b\b/ \b\b- \b\b\\ \b\b| \b\b/ \b\b- \b\b\\ \b\b| \b\b/ \b\b- \b\b\\ \b\b| \b\b/ \b\b- \b\b\\ \b\b| \b\b/ \b\b- \b\b\\ \b\b| \b\b/ \b\b- \b\b\\ \b\b| \b\b/ \b\b- \b\b\\ \b\b| \b\b/ \b\b- \b\b\\ \b\b| \b\b/ \b\b- \b\b\\ \b\b| \b\b/ \b\b- \b\b\\ \b\b| \b\b/ \b\b- \b\b\\ \b\b| \b\b/ \b\b- \b\b\\ \b\b| \b\b/ \b\b- \b\b\\ \b\b| \b\b/ \b\b- \b\b\\ \b\b| \b\b/ \b\b- \b\b\\ \b\b| \b\b/ \b\b- \b\b\\ \b\b| \b\b/ \b\b- \b\b\\ \b\b| \b\b/ \b\b- \b\b\\ \b\b| \b\b/ \b\b- \b\bdone\n",
            "\n",
            "\n",
            "==> WARNING: A newer version of conda exists. <==\n",
            "  current version: 4.12.0\n",
            "  latest version: 4.13.0\n",
            "\n",
            "Please update conda by running\n",
            "\n",
            "    $ conda update -n base -c defaults conda\n",
            "\n",
            "\n",
            "\n",
            "## Package Plan ##\n",
            "\n",
            "  environment location: /root/conda/envs/lab\n",
            "\n",
            "  added / updated specs:\n",
            "    - bedtools\n",
            "    - biopython\n",
            "    - bwa\n",
            "    - cython\n",
            "    - matplotlib\n",
            "    - numpy\n",
            "    - pandas\n",
            "    - pip\n",
            "    - pysam\n",
            "    - samtools\n",
            "    - scipy\n",
            "    - star\n",
            "\n",
            "\n",
            "The following NEW packages will be INSTALLED:\n",
            "\n",
            "  _libgcc_mutex      conda-forge/linux-64::_libgcc_mutex-0.1-conda_forge\n",
            "  _openmp_mutex      conda-forge/linux-64::_openmp_mutex-4.5-2_gnu\n",
            "  alsa-lib           conda-forge/linux-64::alsa-lib-1.2.3.2-h166bdaf_0\n",
            "  attr               conda-forge/linux-64::attr-2.5.1-h166bdaf_0\n",
            "  bedtools           bioconda/linux-64::bedtools-2.30.0-h468198e_3\n",
            "  biopython          conda-forge/linux-64::biopython-1.79-py39h3811e60_1\n",
            "  brotli             conda-forge/linux-64::brotli-1.0.9-h166bdaf_7\n",
            "  brotli-bin         conda-forge/linux-64::brotli-bin-1.0.9-h166bdaf_7\n",
            "  bwa                bioconda/linux-64::bwa-0.7.17-h7132678_9\n",
            "  bzip2              conda-forge/linux-64::bzip2-1.0.8-h7f98852_4\n",
            "  c-ares             conda-forge/linux-64::c-ares-1.18.1-h7f98852_0\n",
            "  ca-certificates    conda-forge/linux-64::ca-certificates-2022.5.18.1-ha878542_0\n",
            "  certifi            conda-forge/linux-64::certifi-2022.5.18.1-py39hf3d152e_0\n",
            "  cycler             conda-forge/noarch::cycler-0.11.0-pyhd8ed1ab_0\n",
            "  cython             conda-forge/linux-64::cython-0.29.30-py39h5a03fae_0\n",
            "  dbus               conda-forge/linux-64::dbus-1.13.6-h5008d03_3\n",
            "  expat              conda-forge/linux-64::expat-2.4.8-h27087fc_0\n",
            "  fftw               conda-forge/linux-64::fftw-3.3.10-nompi_h77c792f_102\n",
            "  font-ttf-dejavu-s~ conda-forge/noarch::font-ttf-dejavu-sans-mono-2.37-hab24e00_0\n",
            "  font-ttf-inconsol~ conda-forge/noarch::font-ttf-inconsolata-3.000-h77eed37_0\n",
            "  font-ttf-source-c~ conda-forge/noarch::font-ttf-source-code-pro-2.038-h77eed37_0\n",
            "  font-ttf-ubuntu    conda-forge/noarch::font-ttf-ubuntu-0.83-hab24e00_0\n",
            "  fontconfig         conda-forge/linux-64::fontconfig-2.14.0-h8e229c2_0\n",
            "  fonts-conda-ecosy~ conda-forge/noarch::fonts-conda-ecosystem-1-0\n",
            "  fonts-conda-forge  conda-forge/noarch::fonts-conda-forge-1-0\n",
            "  fonttools          conda-forge/linux-64::fonttools-4.33.3-py39hb9d737c_0\n",
            "  freetype           conda-forge/linux-64::freetype-2.10.4-h0708190_1\n",
            "  gettext            conda-forge/linux-64::gettext-0.19.8.1-h73d1719_1008\n",
            "  giflib             conda-forge/linux-64::giflib-5.2.1-h36c2ea0_2\n",
            "  gst-plugins-base   conda-forge/linux-64::gst-plugins-base-1.20.2-hcf0ee16_0\n",
            "  gstreamer          conda-forge/linux-64::gstreamer-1.20.2-hd4edc92_1\n",
            "  htslib             bioconda/linux-64::htslib-1.15.1-h9753748_0\n",
            "  icu                conda-forge/linux-64::icu-70.1-h27087fc_0\n",
            "  jack               conda-forge/linux-64::jack-1.9.18-hfd4fe87_1001\n",
            "  jpeg               conda-forge/linux-64::jpeg-9e-h166bdaf_1\n",
            "  keyutils           conda-forge/linux-64::keyutils-1.6.1-h166bdaf_0\n",
            "  kiwisolver         conda-forge/linux-64::kiwisolver-1.4.2-py39hf939315_1\n",
            "  krb5               conda-forge/linux-64::krb5-1.19.3-h3790be6_0\n",
            "  lcms2              conda-forge/linux-64::lcms2-2.12-hddcbb42_0\n",
            "  ld_impl_linux-64   conda-forge/linux-64::ld_impl_linux-64-2.36.1-hea4e1c9_2\n",
            "  lerc               conda-forge/linux-64::lerc-3.0-h9c3ff4c_0\n",
            "  libblas            conda-forge/linux-64::libblas-3.9.0-14_linux64_openblas\n",
            "  libbrotlicommon    conda-forge/linux-64::libbrotlicommon-1.0.9-h166bdaf_7\n",
            "  libbrotlidec       conda-forge/linux-64::libbrotlidec-1.0.9-h166bdaf_7\n",
            "  libbrotlienc       conda-forge/linux-64::libbrotlienc-1.0.9-h166bdaf_7\n",
            "  libcap             conda-forge/linux-64::libcap-2.64-ha37c62d_0\n",
            "  libcblas           conda-forge/linux-64::libcblas-3.9.0-14_linux64_openblas\n",
            "  libclang           conda-forge/linux-64::libclang-14.0.4-default_h2e3cab8_0\n",
            "  libclang13         conda-forge/linux-64::libclang13-14.0.4-default_h3a83d3e_0\n",
            "  libcups            conda-forge/linux-64::libcups-2.3.3-hf5a7f15_1\n",
            "  libcurl            conda-forge/linux-64::libcurl-7.83.1-h7bff187_0\n",
            "  libdb              conda-forge/linux-64::libdb-6.2.32-h9c3ff4c_0\n",
            "  libdeflate         conda-forge/linux-64::libdeflate-1.10-h7f98852_0\n",
            "  libedit            conda-forge/linux-64::libedit-3.1.20191231-he28a2e2_2\n",
            "  libev              conda-forge/linux-64::libev-4.33-h516909a_1\n",
            "  libevent           conda-forge/linux-64::libevent-2.1.10-h9b69904_4\n",
            "  libffi             conda-forge/linux-64::libffi-3.4.2-h7f98852_5\n",
            "  libflac            conda-forge/linux-64::libflac-1.3.4-h27087fc_0\n",
            "  libgcc-ng          conda-forge/linux-64::libgcc-ng-12.1.0-h8d9b700_16\n",
            "  libgfortran-ng     conda-forge/linux-64::libgfortran-ng-12.1.0-h69a702a_16\n",
            "  libgfortran5       conda-forge/linux-64::libgfortran5-12.1.0-hdcd56e2_16\n",
            "  libglib            conda-forge/linux-64::libglib-2.70.2-h174f98d_4\n",
            "  libgomp            conda-forge/linux-64::libgomp-12.1.0-h8d9b700_16\n",
            "  libiconv           conda-forge/linux-64::libiconv-1.16-h516909a_0\n",
            "  liblapack          conda-forge/linux-64::liblapack-3.9.0-14_linux64_openblas\n",
            "  libllvm14          conda-forge/linux-64::libllvm14-14.0.4-he0ac6c6_0\n",
            "  libnghttp2         conda-forge/linux-64::libnghttp2-1.47.0-h727a467_0\n",
            "  libnsl             conda-forge/linux-64::libnsl-2.0.0-h7f98852_0\n",
            "  libogg             conda-forge/linux-64::libogg-1.3.4-h7f98852_1\n",
            "  libopenblas        conda-forge/linux-64::libopenblas-0.3.20-pthreads_h78a6416_0\n",
            "  libopus            conda-forge/linux-64::libopus-1.3.1-h7f98852_1\n",
            "  libpng             conda-forge/linux-64::libpng-1.6.37-h21135ba_2\n",
            "  libpq              conda-forge/linux-64::libpq-14.3-hd77ab85_0\n",
            "  libsndfile         conda-forge/linux-64::libsndfile-1.0.31-h9c3ff4c_1\n",
            "  libssh2            conda-forge/linux-64::libssh2-1.10.0-ha56f1ee_2\n",
            "  libstdcxx-ng       conda-forge/linux-64::libstdcxx-ng-12.1.0-ha89aaad_16\n",
            "  libtiff            conda-forge/linux-64::libtiff-4.4.0-h0fcbabc_0\n",
            "  libtool            conda-forge/linux-64::libtool-2.4.6-h9c3ff4c_1008\n",
            "  libudev1           conda-forge/linux-64::libudev1-249-h166bdaf_2\n",
            "  libuuid            conda-forge/linux-64::libuuid-2.32.1-h7f98852_1000\n",
            "  libvorbis          conda-forge/linux-64::libvorbis-1.3.7-h9c3ff4c_0\n",
            "  libwebp            conda-forge/linux-64::libwebp-1.2.2-h3452ae3_0\n",
            "  libwebp-base       conda-forge/linux-64::libwebp-base-1.2.2-h7f98852_1\n",
            "  libxcb             conda-forge/linux-64::libxcb-1.13-h7f98852_1004\n",
            "  libxkbcommon       conda-forge/linux-64::libxkbcommon-1.0.3-he3ba5ed_0\n",
            "  libxml2            conda-forge/linux-64::libxml2-2.9.14-h22db469_0\n",
            "  libzlib            conda-forge/linux-64::libzlib-1.2.12-h166bdaf_0\n",
            "  lz4-c              conda-forge/linux-64::lz4-c-1.9.3-h9c3ff4c_1\n",
            "  matplotlib         conda-forge/linux-64::matplotlib-3.5.2-py39hf3d152e_0\n",
            "  matplotlib-base    conda-forge/linux-64::matplotlib-base-3.5.2-py39h700656a_0\n",
            "  munkres            conda-forge/noarch::munkres-1.1.4-pyh9f0ad1d_0\n",
            "  mysql-common       conda-forge/linux-64::mysql-common-8.0.29-haf5c9bc_1\n",
            "  mysql-libs         conda-forge/linux-64::mysql-libs-8.0.29-h28c427c_1\n",
            "  ncurses            conda-forge/linux-64::ncurses-6.3-h27087fc_1\n",
            "  nspr               conda-forge/linux-64::nspr-4.32-h9c3ff4c_1\n",
            "  nss                conda-forge/linux-64::nss-3.78-h2350873_0\n",
            "  numpy              conda-forge/linux-64::numpy-1.22.4-py39hc58783e_0\n",
            "  openjpeg           conda-forge/linux-64::openjpeg-2.4.0-hb52868f_1\n",
            "  openssl            conda-forge/linux-64::openssl-1.1.1o-h166bdaf_0\n",
            "  packaging          conda-forge/noarch::packaging-21.3-pyhd8ed1ab_0\n",
            "  pandas             conda-forge/linux-64::pandas-1.4.2-py39h1832856_2\n",
            "  pcre               conda-forge/linux-64::pcre-8.45-h9c3ff4c_0\n",
            "  perl               conda-forge/linux-64::perl-5.32.1-2_h7f98852_perl5\n",
            "  pillow             conda-forge/linux-64::pillow-9.1.1-py39hae2aec6_1\n",
            "  pip                conda-forge/noarch::pip-22.1.2-pyhd8ed1ab_0\n",
            "  pthread-stubs      conda-forge/linux-64::pthread-stubs-0.4-h36c2ea0_1001\n",
            "  pulseaudio         conda-forge/linux-64::pulseaudio-14.0-hbc9ff1d_7\n",
            "  pyparsing          conda-forge/noarch::pyparsing-3.0.9-pyhd8ed1ab_0\n",
            "  pyqt               conda-forge/linux-64::pyqt-5.15.4-py39h5a03fae_0\n",
            "  pyqt5-sip          conda-forge/linux-64::pyqt5-sip-12.9.0-py39h5a03fae_0\n",
            "  pysam              bioconda/linux-64::pysam-0.19.1-py39h5030a8b_0\n",
            "  python             conda-forge/linux-64::python-3.9.13-h9a8a25e_0_cpython\n",
            "  python-dateutil    conda-forge/noarch::python-dateutil-2.8.2-pyhd8ed1ab_0\n",
            "  python_abi         conda-forge/linux-64::python_abi-3.9-2_cp39\n",
            "  pytz               conda-forge/noarch::pytz-2022.1-pyhd8ed1ab_0\n",
            "  qt-main            conda-forge/linux-64::qt-main-5.15.3-hf97cb25_2\n",
            "  readline           conda-forge/linux-64::readline-8.1-h46c0cb4_0\n",
            "  samtools           bioconda/linux-64::samtools-1.15.1-h1170115_0\n",
            "  scipy              conda-forge/linux-64::scipy-1.8.1-py39he49c0e8_0\n",
            "  setuptools         conda-forge/linux-64::setuptools-62.3.2-py39hf3d152e_0\n",
            "  sip                conda-forge/linux-64::sip-6.5.1-py39he80948d_2\n",
            "  six                conda-forge/noarch::six-1.16.0-pyh6c4a22f_0\n",
            "  sqlite             conda-forge/linux-64::sqlite-3.38.5-h4ff8645_0\n",
            "  star               bioconda/linux-64::star-2.7.10a-h9ee0642_0\n",
            "  tk                 conda-forge/linux-64::tk-8.6.12-h27826a3_0\n",
            "  toml               conda-forge/noarch::toml-0.10.2-pyhd8ed1ab_0\n",
            "  tornado            conda-forge/linux-64::tornado-6.1-py39hb9d737c_3\n",
            "  tzdata             conda-forge/noarch::tzdata-2022a-h191b570_0\n",
            "  unicodedata2       conda-forge/linux-64::unicodedata2-14.0.0-py39hb9d737c_1\n",
            "  wheel              conda-forge/noarch::wheel-0.37.1-pyhd8ed1ab_0\n",
            "  xorg-libxau        conda-forge/linux-64::xorg-libxau-1.0.9-h7f98852_0\n",
            "  xorg-libxdmcp      conda-forge/linux-64::xorg-libxdmcp-1.1.3-h7f98852_0\n",
            "  xz                 conda-forge/linux-64::xz-5.2.5-h516909a_1\n",
            "  zlib               conda-forge/linux-64::zlib-1.2.12-h166bdaf_0\n",
            "  zstd               conda-forge/linux-64::zstd-1.5.2-h8a70e8d_1\n",
            "\n",
            "\n",
            "Preparing transaction: | \b\b/ \b\b- \b\b\\ \b\b| \b\b/ \b\b- \b\b\\ \b\b| \b\b/ \b\b- \b\b\\ \b\b| \b\b/ \b\b- \b\bdone\n",
            "Verifying transaction: | \b\b/ \b\b- \b\b\\ \b\b| \b\b/ \b\b- \b\b\\ \b\b| \b\b/ \b\b- \b\b\\ \b\b| \b\b/ \b\b- \b\b\\ \b\b| \b\b/ \b\b- \b\b\\ \b\b| \b\b/ \b\b- \b\b\\ \b\b| \b\b/ \b\b- \b\b\\ \b\b| \b\b/ \b\b- \b\b\\ \b\b| \b\b/ \b\b- \b\b\\ \b\b| \b\b/ \b\b- \b\b\\ \b\b| \b\b/ \b\b- \b\b\\ \b\b| \b\b/ \b\b- \b\b\\ \b\b| \b\b/ \b\b- \b\b\\ \b\b| \b\b/ \b\b- \b\b\\ \b\b| \b\b/ \b\b- \b\b\\ \b\b| \b\b/ \b\b- \b\bdone\n",
            "Executing transaction: | \b\b/ \b\b- \b\b\\ \b\b| \b\b/ \b\b- \b\b\\ \b\b| \b\b/ \b\b- \b\b\\ \b\b| \b\b/ \b\b- \b\b\\ \b\b| \b\b/ \b\b- \b\b\\ \b\b| \b\b/ \b\b- \b\b\\ \b\b| \b\b/ \b\b- \b\b\\ \b\b| \b\b/ \b\b- \b\b\\ \b\b| \b\b/ \b\b- \b\b\\ \b\b| \b\b/ \b\b- \b\b\\ \b\b| \b\b/ \b\b- \b\b\\ \b\b| \b\b/ \b\b- \b\b\\ \b\b| \b\b/ \b\b- \b\b\\ \b\b| \b\b/ \b\b- \b\b\\ \b\b| \b\b/ \b\b- \b\b\\ \b\b| \b\b/ \b\b- \b\b\\ \b\b| \b\b/ \b\b- \b\b\\ \b\b| \b\b/ \b\b- \b\b\\ \b\b| \b\bdone\n",
            "#\n",
            "# To activate this environment, use\n",
            "#\n",
            "#     $ conda activate lab\n",
            "#\n",
            "# To deactivate an active environment, use\n",
            "#\n",
            "#     $ conda deactivate\n",
            "\n",
            "Activated conda environment `lab'!\n"
          ]
        }
      ]
    },
    {
      "cell_type": "markdown",
      "metadata": {
        "id": "etOQJdMTPfS0"
      },
      "source": [
        "## 시퀀싱 데이터 다운로드\n",
        "이제 실습 수업에서 필요한 시퀀싱 데이터를 다운로드 및 설치.\n"
      ]
    },
    {
      "cell_type": "code",
      "source": [
        "!ls -al /content/drive/MyDrive/binfo1-datapack1/"
      ],
      "metadata": {
        "id": "D24wKYriG8tI",
        "colab": {
          "base_uri": "https://localhost:8080/"
        },
        "outputId": "06fdd095-63fb-4fd1-967b-7b8472e85333"
      },
      "execution_count": 6,
      "outputs": [
        {
          "output_type": "stream",
          "name": "stdout",
          "text": [
            "total 7817834\n",
            "-rw------- 1 root root 1370036258 May  6 05:31 CLIP-35L33G.bam\n",
            "-rw------- 1 root root    3118336 May  6 05:31 CLIP-35L33G.bam.bai\n",
            "-rw------- 1 root root       7077 May 20 04:13 CLIP-let7g.bam\n",
            "-rw------- 1 root root      14561 May 20 04:13 CLIP-let7g-gene.pileup\n",
            "-rw------- 1 root root    2685065 May 20 04:13 CLIP-let7g.pileup\n",
            "drwx------ 2 root root       4096 May 12 06:33 colab-biolab\n",
            "-rw------- 1 root root  567739792 May 12 10:24 filtered-RPF-siLuc.bam\n",
            "-rw------- 1 root root   28109361 May 12 10:31 fivepcounts-filtered-RPF-siLuc.txt\n",
            "-rw------- 1 root root   45957833 May 12 10:26 fivepcounts-RPF-siLuc.bed\n",
            "-rw------- 1 root root     855103 May 12 10:22 gencode-exons-containing-startcodon.bed\n",
            "-rw------- 1 root root  883334756 May  6 05:31 gencode.gtf\n",
            "-rw------- 1 root root   26842797 May 12 10:21 gencode-plusexon.gtf\n",
            "-rw------- 1 root root    1063832 May 12 10:19 gencode-start.gtf\n",
            "-rw------- 1 root root       3907 May 20 04:23 let7g.bed\n",
            "-rw------- 1 root root   24187483 May 13 10:42 read-counts.txt\n",
            "-rw------- 1 root root        825 May 13 10:42 read-counts.txt.summary\n",
            "-rw------- 1 root root 1003658801 May  6 05:31 RNA-control.bam\n",
            "-rw------- 1 root root    2276104 May  6 05:31 RNA-control.bam.bai\n",
            "-rw------- 1 root root 1260991122 May  6 05:31 RNA-siLin28a.bam\n",
            "-rw------- 1 root root    2710744 May  6 05:31 RNA-siLin28a.bam.bai\n",
            "-rw------- 1 root root  981684502 May  6 05:31 RNA-siLuc.bam\n",
            "-rw------- 1 root root    2606104 May  6 05:32 RNA-siLuc.bam.bai\n",
            "-rw------- 1 root root  737352902 May  6 05:32 RPF-siLin28a.bam\n",
            "-rw------- 1 root root    2482768 May  6 05:32 RPF-siLin28a.bam.bai\n",
            "-rw------- 1 root root 1055123479 May  6 05:32 RPF-siLuc.bam\n",
            "-rw------- 1 root root    2605912 May  6 05:32 RPF-siLuc.bam.bai\n"
          ]
        }
      ]
    },
    {
      "cell_type": "markdown",
      "metadata": {
        "id": "BnS18ErRPfS2"
      },
      "source": [
        "### 파일 체크섬 확인\n",
        "\n",
        "받은 데이터의 MD5 체크섬을 확인하기.\n",
        "\n",
        "```\n",
        "140aaf30bcb9276cc716f8699f04ddd6  CLIP-35L33G.bam\n",
        "f1b3336ed7e2f97d562dcc71641251bd  CLIP-35L33G.bam.bai\n",
        "328883a73d507eafbf5b60bd6b906201  RNA-control.bam\n",
        "02073818e2f398a73c3b76e5169de1ca  RNA-control.bam.bai\n",
        "b09550d09d6c2a4ce27f0226f426fdb1  RNA-siLin28a.bam\n",
        "fef112c727244060ea62d3f2564a07f6  RNA-siLin28a.bam.bai\n",
        "28bbd0c47d725669340c784f1b772c01  RNA-siLuc.bam\n",
        "43590fdc4d81905c0432e0d1cb8cfd5b  RNA-siLuc.bam.bai\n",
        "5c08a9297307bc83259e658c4474f0cc  RPF-siLin28a.bam\n",
        "a1bb3e29be412dfd7fd8d16b1b1acc4c  RPF-siLin28a.bam.bai\n",
        "f2eebf50943024d0116c9cd3e744c707  RPF-siLuc.bam\n",
        "dc24f69e8f571fc8be30f28ce5b84fcd  RPF-siLuc.bam.bai\n",
        "```"
      ]
    },
    {
      "cell_type": "code",
      "metadata": {
        "id": "6wOX9pzSPfS2",
        "colab": {
          "base_uri": "https://localhost:8080/"
        },
        "outputId": "32ae8716-c49c-4eba-ea55-5f75975e276a"
      },
      "source": [
        "!md5sum drive/MyDrive/binfo1-datapack1/*"
      ],
      "execution_count": 7,
      "outputs": [
        {
          "output_type": "stream",
          "name": "stdout",
          "text": [
            "140aaf30bcb9276cc716f8699f04ddd6  drive/MyDrive/binfo1-datapack1/CLIP-35L33G.bam\n",
            "f1b3336ed7e2f97d562dcc71641251bd  drive/MyDrive/binfo1-datapack1/CLIP-35L33G.bam.bai\n",
            "0d33bf4b3a5ce22ba13a62323efd6883  drive/MyDrive/binfo1-datapack1/CLIP-let7g.bam\n",
            "4ea14471c5d4bf9ab1fd91b9a5b2193c  drive/MyDrive/binfo1-datapack1/CLIP-let7g-gene.pileup\n",
            "a53f66a5575d4ac2d3b4c44af576d44d  drive/MyDrive/binfo1-datapack1/CLIP-let7g.pileup\n",
            "md5sum: drive/MyDrive/binfo1-datapack1/colab-biolab: Is a directory\n",
            "d477bd9acca237bbc6e0fbd81cdc6c0b  drive/MyDrive/binfo1-datapack1/filtered-RPF-siLuc.bam\n",
            "2b5021d2ac3d4830fd963d950a2dc0b8  drive/MyDrive/binfo1-datapack1/fivepcounts-filtered-RPF-siLuc.txt\n",
            "7211785786bc63bf95a5bb678cad71c1  drive/MyDrive/binfo1-datapack1/fivepcounts-RPF-siLuc.bed\n",
            "ed47186ee44654792a8a130c695f3a22  drive/MyDrive/binfo1-datapack1/gencode-exons-containing-startcodon.bed\n",
            "d54d428f5872030c4ffc43058709b896  drive/MyDrive/binfo1-datapack1/gencode.gtf\n",
            "3469e3e3e018302c5488adc052fd1e21  drive/MyDrive/binfo1-datapack1/gencode-plusexon.gtf\n",
            "b1c38579a9e8e0313c1508f02ce0afaf  drive/MyDrive/binfo1-datapack1/gencode-start.gtf\n",
            "35ad7981b8bc05265dd1fbdddfd4f353  drive/MyDrive/binfo1-datapack1/let7g.bed\n",
            "b75a7f625b2bf604f8e0eca13e71699e  drive/MyDrive/binfo1-datapack1/read-counts.txt\n",
            "f0282c43f2b5fb965efe34604e5783fe  drive/MyDrive/binfo1-datapack1/read-counts.txt.summary\n",
            "328883a73d507eafbf5b60bd6b906201  drive/MyDrive/binfo1-datapack1/RNA-control.bam\n",
            "02073818e2f398a73c3b76e5169de1ca  drive/MyDrive/binfo1-datapack1/RNA-control.bam.bai\n",
            "b09550d09d6c2a4ce27f0226f426fdb1  drive/MyDrive/binfo1-datapack1/RNA-siLin28a.bam\n",
            "fef112c727244060ea62d3f2564a07f6  drive/MyDrive/binfo1-datapack1/RNA-siLin28a.bam.bai\n",
            "28bbd0c47d725669340c784f1b772c01  drive/MyDrive/binfo1-datapack1/RNA-siLuc.bam\n",
            "43590fdc4d81905c0432e0d1cb8cfd5b  drive/MyDrive/binfo1-datapack1/RNA-siLuc.bam.bai\n",
            "5c08a9297307bc83259e658c4474f0cc  drive/MyDrive/binfo1-datapack1/RPF-siLin28a.bam\n",
            "a1bb3e29be412dfd7fd8d16b1b1acc4c  drive/MyDrive/binfo1-datapack1/RPF-siLin28a.bam.bai\n",
            "f2eebf50943024d0116c9cd3e744c707  drive/MyDrive/binfo1-datapack1/RPF-siLuc.bam\n",
            "dc24f69e8f571fc8be30f28ce5b84fcd  drive/MyDrive/binfo1-datapack1/RPF-siLuc.bam.bai\n"
          ]
        }
      ]
    },
    {
      "cell_type": "markdown",
      "metadata": {
        "id": "ecEA1PPQUlIK"
      },
      "source": [
        "실습에 필요한 프로그램들 몇 가지를 추가로 설치하기."
      ]
    },
    {
      "cell_type": "code",
      "metadata": {
        "id": "neteyWsWEKBy",
        "colab": {
          "base_uri": "https://localhost:8080/"
        },
        "outputId": "7fd516c3-fbd3-4923-a996-f5d3964b5061"
      },
      "source": [
        "!conda install -y bedtools bioawk"
      ],
      "execution_count": 8,
      "outputs": [
        {
          "output_type": "stream",
          "name": "stdout",
          "text": [
            "Collecting package metadata (current_repodata.json): - \b\b\\ \b\b| \b\b/ \b\b- \b\b\\ \b\b| \b\b/ \b\b- \b\b\\ \b\b| \b\b/ \b\b- \b\b\\ \b\b| \b\b/ \b\b- \b\b\\ \b\b| \b\b/ \b\b- \b\b\\ \b\b| \b\b/ \b\b- \b\b\\ \b\b| \b\b/ \b\b- \b\bdone\n",
            "Solving environment: | \b\b/ \b\b- \b\b\\ \b\b| \b\b/ \b\b- \b\b\\ \b\b| \b\b/ \b\b- \b\b\\ \b\b| \b\b/ \b\b- \b\b\\ \b\b| \b\b/ \b\b- \b\b\\ \b\b| \b\b/ \b\b- \b\b\\ \b\bdone\n",
            "\n",
            "\n",
            "==> WARNING: A newer version of conda exists. <==\n",
            "  current version: 4.12.0\n",
            "  latest version: 4.13.0\n",
            "\n",
            "Please update conda by running\n",
            "\n",
            "    $ conda update -n base -c defaults conda\n",
            "\n",
            "\n",
            "\n",
            "## Package Plan ##\n",
            "\n",
            "  environment location: /root/conda/envs/lab\n",
            "\n",
            "  added / updated specs:\n",
            "    - bedtools\n",
            "    - bioawk\n",
            "\n",
            "\n",
            "The following packages will be downloaded:\n",
            "\n",
            "    package                    |            build\n",
            "    ---------------------------|-----------------\n",
            "    bioawk-1.0                 |       h7132678_7         196 KB  bioconda\n",
            "    ------------------------------------------------------------\n",
            "                                           Total:         196 KB\n",
            "\n",
            "The following NEW packages will be INSTALLED:\n",
            "\n",
            "  bioawk             bioconda/linux-64::bioawk-1.0-h7132678_7\n",
            "\n",
            "\n",
            "\n",
            "Downloading and Extracting Packages\n",
            "bioawk-1.0           | 196 KB    | : 100% 1.0/1 [00:00<00:00,  8.48it/s]\n",
            "Preparing transaction: / \b\bdone\n",
            "Verifying transaction: \\ \b\bdone\n",
            "Executing transaction: / \b\bdone\n"
          ]
        }
      ]
    },
    {
      "cell_type": "markdown",
      "metadata": {
        "id": "Oe_54MZrEi4y"
      },
      "source": [
        "## (★)Fig S2A 재현해보기\n",
        "\n",
        "Error가 많이 나오는 부분의 unique sequence들의 각각 개수를 세서 genome browser로 표현하고, 점수 트랙을 같이 표시하기.\n",
        "\n",
        "데이터는 Mission 3와 동일"
      ]
    },
    {
      "cell_type": "code",
      "metadata": {
        "id": "IANz6DmLUkA6",
        "colab": {
          "base_uri": "https://localhost:8080/"
        },
        "outputId": "416f1bf5-58bf-4081-82d6-4bf0b412af87"
      },
      "source": [
        "%cd /content/drive/MyDrive/binfo1-datapack1/"
      ],
      "execution_count": 10,
      "outputs": [
        {
          "output_type": "stream",
          "name": "stdout",
          "text": [
            "/content/drive/MyDrive/binfo1-datapack1\n"
          ]
        }
      ]
    },
    {
      "cell_type": "markdown",
      "metadata": {
        "id": "CMMDdHgyJAB1"
      },
      "source": [
        "새로운 annotion에서 mirlet7d의 위치를 찾기."
      ]
    },
    {
      "cell_type": "code",
      "metadata": {
        "id": "sumX23OcI_fl",
        "colab": {
          "base_uri": "https://localhost:8080/"
        },
        "outputId": "1ab378ab-68b0-4a06-b4e8-266e8adb52fe"
      },
      "source": [
        "!grep -i mirlet7d gencode.gtf"
      ],
      "execution_count": 69,
      "outputs": [
        {
          "output_type": "stream",
          "name": "stdout",
          "text": [
            "chr13\tENSEMBL\tgene\t48689488\t48689590\t.\t-\t.\tgene_id \"ENSMUSG00000065453.3\"; gene_type \"miRNA\"; gene_name \"Mirlet7d\"; level 3; mgi_id \"MGI:2676796\";\n",
            "chr13\tENSEMBL\ttranscript\t48689488\t48689590\t.\t-\t.\tgene_id \"ENSMUSG00000065453.3\"; transcript_id \"ENSMUST00000083519.3\"; gene_type \"miRNA\"; gene_name \"Mirlet7d\"; transcript_type \"miRNA\"; transcript_name \"Mirlet7d-201\"; level 3; transcript_support_level \"NA\"; mgi_id \"MGI:2676796\"; tag \"basic\";\n",
            "chr13\tENSEMBL\texon\t48689488\t48689590\t.\t-\t.\tgene_id \"ENSMUSG00000065453.3\"; transcript_id \"ENSMUST00000083519.3\"; gene_type \"miRNA\"; gene_name \"Mirlet7d\"; transcript_type \"miRNA\"; transcript_name \"Mirlet7d-201\"; exon_number 1; exon_id \"ENSMUSE00000522678.2\"; level 3; transcript_support_level \"NA\"; mgi_id \"MGI:2676796\"; tag \"basic\";\n"
          ]
        }
      ]
    },
    {
      "cell_type": "markdown",
      "metadata": {
        "id": "iB_C8P1fJkNE"
      },
      "source": [
        "Splicing 되지 않는 transcript이기 때문에 결과가 단조롭습니다. 해당 좌표 범위로 bam을 솎아내기."
      ]
    },
    {
      "cell_type": "code",
      "metadata": {
        "id": "opqsj9vNIL-z",
        "colab": {
          "base_uri": "https://localhost:8080/"
        },
        "outputId": "46f7ee12-7fa4-4cbb-dfd7-01a342c990c5"
      },
      "source": [
        "!samtools view -b -o CLIP-let7d.bam CLIP-35L33G.bam chr13:48689488-48689590\n",
        "!samtools view CLIP-let7d.bam | wc -l"
      ],
      "execution_count": 70,
      "outputs": [
        {
          "output_type": "stream",
          "name": "stdout",
          "text": [
            "187\n"
          ]
        }
      ]
    },
    {
      "cell_type": "markdown",
      "metadata": {
        "id": "baEtdt6aJ12N"
      },
      "source": [
        "각 자리에 mapping된 read들의 분포를 요약하기 위해 samtools mpileup 이용하기."
      ]
    },
    {
      "cell_type": "code",
      "metadata": {
        "id": "5_RLXcMpIL8J",
        "colab": {
          "base_uri": "https://localhost:8080/"
        },
        "outputId": "037b833a-4940-4fe8-df45-c23e347ef2df"
      },
      "source": [
        "!samtools mpileup CLIP-let7d.bam > CLIP-let7d.pileup\n",
        "!wc -l CLIP-let7d.pileup"
      ],
      "execution_count": 71,
      "outputs": [
        {
          "output_type": "stream",
          "name": "stdout",
          "text": [
            "[mpileup] 1 samples in 1 input files\n",
            "87 CLIP-let7d.pileup\n"
          ]
        }
      ]
    },
    {
      "cell_type": "markdown",
      "metadata": {
        "id": "hpC-bsZEKozF"
      },
      "source": [
        "Mirlet7d의 핵심부분을 살펴봐서 어떻게 하면 좋을지 견적을 내보기."
      ]
    },
    {
      "cell_type": "code",
      "metadata": {
        "id": "1WulVeZqIL5W",
        "colab": {
          "base_uri": "https://localhost:8080/"
        },
        "outputId": "ba1debde-7d5d-437e-9870-7fbce6701ceb"
      },
      "source": [
        "!head CLIP-let7d.pileup"
      ],
      "execution_count": 72,
      "outputs": [
        {
          "output_type": "stream",
          "name": "stdout",
          "text": [
            "chr13\t48689488\tN\t24\t^Ga^Ia^Ha^Ia^Ha^Ia^Ia^Ia^Ga^Ia^Ia^Ia^Ia^Ia^Ha^Ia^Ga^Ga^Ga^Ia^Ea^Da^Ha^Ga\tBIHGGIHIEIIIGIHIGEGH5BDD\n",
            "chr13\t48689489\tN\t53\taaaaaaaaaaaaaaaaaaaaaaaaa^Ia^Ha^Ia^Ga^Ga^Ha^Ia^Ia^Ga^Ga^Ia^Ia^Ha^Ia^Ia^Ha^Ha^Da^Ia^Ha^Ia^Ia^Ia^Ia^Ia^Ha^Ga^Ga\tGIHIGIIIEIIIIIHIG>EB4@5HDIHIBEGIID?IIGII@H>IGHIIIGHDC\n",
            "chr13\t48689490\tN\t69\tttttttttttttttttttttttttttttttttttttttttttttttttttttt^Gt^Gt^Ht^Gt^It^It^Ht^It^Gt^Gt^Ht^It^It^It^Ht^It\tGIHIGHIFFIIIIIFHGEDG;2>FDIHIDGBIIDBIIDIIAH>IBGIIIGHBG=BG=IIGIDGHFIIHI\n",
            "chr13\t48689491\tN\t105\taaaaaaaaaaaaaaaaaaaaaaaaaaaaaaaaaaaaaaaaaaaaaaaaaaaaaaaaaaaaaaaaaaaaa^Ia^Ia^Ha^Ga^Ia^Ga^Ia^Ga^Ha^Ha^Ha^Ga^Ia^Ha^Ha^Ia^@a^Ia^Ia^Ia^Ga^Ha^Ha^Ga^Ha^Ga^Ia^Ha^Ga^Ia^Ga^Ha^Ga^Ia^Ia^Ga\tEIGHEHHIEIIIIIHIGCBH:?>HGGHI>GBIIGBIIGIHBB;IHIIIIGHDC3=G:IGGIDEHIFIGHII=GIDHEGHHEIGGI7III9=HGBAIGBIGFG>I2\n",
            "chr13\t48689492\tN\t105\taaaaaaaaaaaaaaaaaaaaaaaaaaaaaaaaaaaaaaaaaaaaaaaaaaaaaaaaaaaaaaaaaaaaaaaaaaaaaaaaaaaaaaaaaaaaaaaaaaaaaaaaa\tGIGIEIEI7IIIGIGIG;?F:D@G7GHIAGAIIG3IIGIHDB2IHIIIIDDGC1<GCIIHIGCHIIIEIIIGCIBIEGHH?HHFI9IIIA=GGB?IEGIFEGGIA\n",
            "chr13\t48689493\tN\t105\tggggggggggggggggggggggggggggggggggggggggggggggggggggggggggggggggggggggggggggggggggggggggggggggggggggggggg\tBIEIGHGI7IHHGIGHG=?F58>E5EHIAGAHIDAHIGII:EDHHIHIIGG>>5EDAIIFFGDHIIHGIII8EIDIBBHHBIGHI7HII?=GGBEIG>HFEGGIA\n",
            "chr13\t48689494\tN\t105\tggggggggggggggggggggggggggggggggggggggggggggggggggggggggggggggggggggggggggggggggggggggggggggggggggggggggg\tFIFEGIFE3HFIGIGHG=?D1?@D5EHIAEADIBFIIGHIBD<IHDGIIGBD>03GEEIHF@DHIIIDIIHEAIDIC>HHBHFDI9FIIE=GGBAIGEFEEGIIA\n",
            "chr13\t48689495\tN\t104\tcccccccccccccccccccccccccccccccccccccccccccccccccccccccccccccccccccccccccccccccccccccccccccccccccccccccc\tGID>GHEG.HIHGH>IG2;B;?>E0BCI8G?FGA?HH@HIB?DHBIIIHGBG90BAEIEF8CEDIHGIIHGAI?I3BGH;HHHE7IIIA=GG:?IFEBF2GBI;\n",
            "chr13\t48689496\tN\t102\tcccccccccccccccccccccccccccccccccccccccccccccccccccccccccccccccccccccccccccccccccccccccccccccccccccccc\tFI8EEGEI.GEB<ID>G38B19>BFFI<D<FGAEFIGDFB@@CH>EHH8B7>BDCEEEBBCHBGEEFHIG?I;IG@HH2EEGI9IIIA>;<@IE<E:CDIG<\n",
            "chr13\t48689497\tN\t104\tcccccccccccccccccccccccccccccccccccccccccccccccccccccccccccccccccccccccccccccccccccccccccccccccccccccccc\tDIHFBIFG.HIIFIGIB3;B993E:IGHAGDIDC3IIHDIBDHBIIIII>;58?A>IIEHBAHBHIGHIEFBI0BG<HHEEGDG.III?7H?>3IE<H8EDGG?\n"
          ]
        }
      ]
    },
    {
      "cell_type": "code",
      "metadata": {
        "id": "GUdB31wAIL0K",
        "colab": {
          "base_uri": "https://localhost:8080/"
        },
        "outputId": "0893b28a-78dd-42dc-f83f-a778d468b1f9"
      },
      "source": [
        "!!awk '$2 >= 48689488 && $2 <= 48689590 { print $0; }' CLIP-let7d.pileup > CLIP-let7d-gene.pileup\n",
        "!tail CLIP-let7d-gene.pileup"
      ],
      "execution_count": 73,
      "outputs": [
        {
          "output_type": "stream",
          "name": "stdout",
          "text": [
            "chr13\t48689565\tN\t6\tcccccc\t>IGIIH\n",
            "chr13\t48689566\tN\t6\ttttttt\t:IGFIH\n",
            "chr13\t48689567\tN\t6\taaaaaa\t8IFIFI\n",
            "chr13\t48689568\tN\t6\tcccccc\t?IGIII\n",
            "chr13\t48689569\tN\t6\ttttttt\t;IGIII\n",
            "chr13\t48689570\tN\t5\taaaaa\tEDECD\n",
            "chr13\t48689571\tN\t6\tcccccc\t:GGIGG\n",
            "chr13\t48689572\tN\t6\tcccccc\t:GGIGG\n",
            "chr13\t48689573\tN\t6\ttttttt\t5GGIGG\n",
            "chr13\t48689574\tN\t6\tc$c$c$c$c$c$\t;GGIGG\n"
          ]
        }
      ]
    },
    {
      "cell_type": "markdown",
      "metadata": {
        "id": "CNEWC4t_MA__"
      },
      "source": [
        "이제 pandas에 불러와서 분석하기."
      ]
    },
    {
      "cell_type": "code",
      "metadata": {
        "id": "PWq1ItOxILxa",
        "colab": {
          "base_uri": "https://localhost:8080/",
          "height": 206
        },
        "outputId": "f5f6a1ea-df48-4a7e-ae06-dc44795e34b2"
      },
      "source": [
        "import pandas as pd\n",
        "\n",
        "pileup = pd.read_csv('CLIP-let7d-gene.pileup', sep='\\t', names=['chrom', 'pos', '_ref', 'count', 'basereads', 'quals'])\n",
        "\n",
        "# pileup 확인\n",
        "pileup.tail()"
      ],
      "execution_count": 74,
      "outputs": [
        {
          "output_type": "execute_result",
          "data": {
            "text/plain": [
              "    chrom       pos _ref  count     basereads   quals\n",
              "82  chr13  48689570    N      5         aaaaa   EDECD\n",
              "83  chr13  48689571    N      6        cccccc  :GGIGG\n",
              "84  chr13  48689572    N      6        cccccc  :GGIGG\n",
              "85  chr13  48689573    N      6        tttttt  5GGIGG\n",
              "86  chr13  48689574    N      6  c$c$c$c$c$c$  ;GGIGG"
            ],
            "text/html": [
              "\n",
              "  <div id=\"df-ce8a86f3-7810-4a92-b79d-e413b944e4b5\">\n",
              "    <div class=\"colab-df-container\">\n",
              "      <div>\n",
              "<style scoped>\n",
              "    .dataframe tbody tr th:only-of-type {\n",
              "        vertical-align: middle;\n",
              "    }\n",
              "\n",
              "    .dataframe tbody tr th {\n",
              "        vertical-align: top;\n",
              "    }\n",
              "\n",
              "    .dataframe thead th {\n",
              "        text-align: right;\n",
              "    }\n",
              "</style>\n",
              "<table border=\"1\" class=\"dataframe\">\n",
              "  <thead>\n",
              "    <tr style=\"text-align: right;\">\n",
              "      <th></th>\n",
              "      <th>chrom</th>\n",
              "      <th>pos</th>\n",
              "      <th>_ref</th>\n",
              "      <th>count</th>\n",
              "      <th>basereads</th>\n",
              "      <th>quals</th>\n",
              "    </tr>\n",
              "  </thead>\n",
              "  <tbody>\n",
              "    <tr>\n",
              "      <th>82</th>\n",
              "      <td>chr13</td>\n",
              "      <td>48689570</td>\n",
              "      <td>N</td>\n",
              "      <td>5</td>\n",
              "      <td>aaaaa</td>\n",
              "      <td>EDECD</td>\n",
              "    </tr>\n",
              "    <tr>\n",
              "      <th>83</th>\n",
              "      <td>chr13</td>\n",
              "      <td>48689571</td>\n",
              "      <td>N</td>\n",
              "      <td>6</td>\n",
              "      <td>cccccc</td>\n",
              "      <td>:GGIGG</td>\n",
              "    </tr>\n",
              "    <tr>\n",
              "      <th>84</th>\n",
              "      <td>chr13</td>\n",
              "      <td>48689572</td>\n",
              "      <td>N</td>\n",
              "      <td>6</td>\n",
              "      <td>cccccc</td>\n",
              "      <td>:GGIGG</td>\n",
              "    </tr>\n",
              "    <tr>\n",
              "      <th>85</th>\n",
              "      <td>chr13</td>\n",
              "      <td>48689573</td>\n",
              "      <td>N</td>\n",
              "      <td>6</td>\n",
              "      <td>tttttt</td>\n",
              "      <td>5GGIGG</td>\n",
              "    </tr>\n",
              "    <tr>\n",
              "      <th>86</th>\n",
              "      <td>chr13</td>\n",
              "      <td>48689574</td>\n",
              "      <td>N</td>\n",
              "      <td>6</td>\n",
              "      <td>c$c$c$c$c$c$</td>\n",
              "      <td>;GGIGG</td>\n",
              "    </tr>\n",
              "  </tbody>\n",
              "</table>\n",
              "</div>\n",
              "      <button class=\"colab-df-convert\" onclick=\"convertToInteractive('df-ce8a86f3-7810-4a92-b79d-e413b944e4b5')\"\n",
              "              title=\"Convert this dataframe to an interactive table.\"\n",
              "              style=\"display:none;\">\n",
              "        \n",
              "  <svg xmlns=\"http://www.w3.org/2000/svg\" height=\"24px\"viewBox=\"0 0 24 24\"\n",
              "       width=\"24px\">\n",
              "    <path d=\"M0 0h24v24H0V0z\" fill=\"none\"/>\n",
              "    <path d=\"M18.56 5.44l.94 2.06.94-2.06 2.06-.94-2.06-.94-.94-2.06-.94 2.06-2.06.94zm-11 1L8.5 8.5l.94-2.06 2.06-.94-2.06-.94L8.5 2.5l-.94 2.06-2.06.94zm10 10l.94 2.06.94-2.06 2.06-.94-2.06-.94-.94-2.06-.94 2.06-2.06.94z\"/><path d=\"M17.41 7.96l-1.37-1.37c-.4-.4-.92-.59-1.43-.59-.52 0-1.04.2-1.43.59L10.3 9.45l-7.72 7.72c-.78.78-.78 2.05 0 2.83L4 21.41c.39.39.9.59 1.41.59.51 0 1.02-.2 1.41-.59l7.78-7.78 2.81-2.81c.8-.78.8-2.07 0-2.86zM5.41 20L4 18.59l7.72-7.72 1.47 1.35L5.41 20z\"/>\n",
              "  </svg>\n",
              "      </button>\n",
              "      \n",
              "  <style>\n",
              "    .colab-df-container {\n",
              "      display:flex;\n",
              "      flex-wrap:wrap;\n",
              "      gap: 12px;\n",
              "    }\n",
              "\n",
              "    .colab-df-convert {\n",
              "      background-color: #E8F0FE;\n",
              "      border: none;\n",
              "      border-radius: 50%;\n",
              "      cursor: pointer;\n",
              "      display: none;\n",
              "      fill: #1967D2;\n",
              "      height: 32px;\n",
              "      padding: 0 0 0 0;\n",
              "      width: 32px;\n",
              "    }\n",
              "\n",
              "    .colab-df-convert:hover {\n",
              "      background-color: #E2EBFA;\n",
              "      box-shadow: 0px 1px 2px rgba(60, 64, 67, 0.3), 0px 1px 3px 1px rgba(60, 64, 67, 0.15);\n",
              "      fill: #174EA6;\n",
              "    }\n",
              "\n",
              "    [theme=dark] .colab-df-convert {\n",
              "      background-color: #3B4455;\n",
              "      fill: #D2E3FC;\n",
              "    }\n",
              "\n",
              "    [theme=dark] .colab-df-convert:hover {\n",
              "      background-color: #434B5C;\n",
              "      box-shadow: 0px 1px 3px 1px rgba(0, 0, 0, 0.15);\n",
              "      filter: drop-shadow(0px 1px 2px rgba(0, 0, 0, 0.3));\n",
              "      fill: #FFFFFF;\n",
              "    }\n",
              "  </style>\n",
              "\n",
              "      <script>\n",
              "        const buttonEl =\n",
              "          document.querySelector('#df-ce8a86f3-7810-4a92-b79d-e413b944e4b5 button.colab-df-convert');\n",
              "        buttonEl.style.display =\n",
              "          google.colab.kernel.accessAllowed ? 'block' : 'none';\n",
              "\n",
              "        async function convertToInteractive(key) {\n",
              "          const element = document.querySelector('#df-ce8a86f3-7810-4a92-b79d-e413b944e4b5');\n",
              "          const dataTable =\n",
              "            await google.colab.kernel.invokeFunction('convertToInteractive',\n",
              "                                                     [key], {});\n",
              "          if (!dataTable) return;\n",
              "\n",
              "          const docLinkHtml = 'Like what you see? Visit the ' +\n",
              "            '<a target=\"_blank\" href=https://colab.research.google.com/notebooks/data_table.ipynb>data table notebook</a>'\n",
              "            + ' to learn more about interactive tables.';\n",
              "          element.innerHTML = '';\n",
              "          dataTable['output_type'] = 'display_data';\n",
              "          await google.colab.output.renderOutput(dataTable, element);\n",
              "          const docLink = document.createElement('div');\n",
              "          docLink.innerHTML = docLinkHtml;\n",
              "          element.appendChild(docLink);\n",
              "        }\n",
              "      </script>\n",
              "    </div>\n",
              "  </div>\n",
              "  "
            ]
          },
          "metadata": {},
          "execution_count": 74
        }
      ]
    },
    {
      "cell_type": "markdown",
      "metadata": {
        "id": "DOM-v48vMTQ-"
      },
      "source": [
        "여기서 pileup에서 계산에 사용할 것은 match와 substitution이기 때문에 나머지에 해당하는 tag들 제거하기."
      ]
    },
    {
      "cell_type": "code",
      "metadata": {
        "id": "qm25CsvBILug"
      },
      "source": [
        "import re\n",
        "toremove = re.compile('[<>$*#^]')\n",
        "pileup['matches'] = pileup['basereads'].apply(lambda x: toremove.sub('', x))"
      ],
      "execution_count": 75,
      "outputs": []
    },
    {
      "cell_type": "code",
      "metadata": {
        "id": "uXYF___MILrK"
      },
      "source": [
        "pileup2 = pileup[['chrom', 'pos', 'matches']]"
      ],
      "execution_count": 76,
      "outputs": []
    },
    {
      "cell_type": "markdown",
      "source": [
        "Base Column 추가하기."
      ],
      "metadata": {
        "id": "CMWMLFjnZOVd"
      }
    },
    {
      "cell_type": "code",
      "source": [
        "pileup2['base'] = pileup['matches'].str.len()"
      ],
      "metadata": {
        "colab": {
          "base_uri": "https://localhost:8080/"
        },
        "id": "xFFiB-WRW7h_",
        "outputId": "b31e2b2e-5e11-433b-8cc0-dc214490dae2"
      },
      "execution_count": 77,
      "outputs": [
        {
          "output_type": "stream",
          "name": "stderr",
          "text": [
            "/usr/local/lib/python3.7/dist-packages/ipykernel_launcher.py:1: SettingWithCopyWarning: \n",
            "A value is trying to be set on a copy of a slice from a DataFrame.\n",
            "Try using .loc[row_indexer,col_indexer] = value instead\n",
            "\n",
            "See the caveats in the documentation: https://pandas.pydata.org/pandas-docs/stable/user_guide/indexing.html#returning-a-view-versus-a-copy\n",
            "  \"\"\"Entry point for launching an IPython kernel.\n"
          ]
        }
      ]
    },
    {
      "cell_type": "markdown",
      "source": [
        "pileup2 dataframe 확인하기 "
      ],
      "metadata": {
        "id": "bS-hnNl-OAgH"
      }
    },
    {
      "cell_type": "code",
      "source": [
        "pileup2"
      ],
      "metadata": {
        "colab": {
          "base_uri": "https://localhost:8080/",
          "height": 423
        },
        "id": "fMurfHcvW8D3",
        "outputId": "bf6a6a93-cead-4989-a2c8-55e04b977ff0"
      },
      "execution_count": 78,
      "outputs": [
        {
          "output_type": "execute_result",
          "data": {
            "text/plain": [
              "    chrom       pos                                            matches  base\n",
              "0   chr13  48689488   GaIaHaIaHaIaIaIaGaIaIaIaIaIaHaIaGaGaGaIaEaDaHaGa    48\n",
              "1   chr13  48689489  aaaaaaaaaaaaaaaaaaaaaaaaaIaHaIaGaGaHaIaIaGaGaI...    81\n",
              "2   chr13  48689490  tttttttttttttttttttttttttttttttttttttttttttttt...    85\n",
              "3   chr13  48689491  aaaaaaaaaaaaaaaaaaaaaaaaaaaaaaaaaaaaaaaaaaaaaa...   141\n",
              "4   chr13  48689492  aaaaaaaaaaaaaaaaaaaaaaaaaaaaaaaaaaaaaaaaaaaaaa...   105\n",
              "..    ...       ...                                                ...   ...\n",
              "82  chr13  48689570                                              aaaaa     5\n",
              "83  chr13  48689571                                             cccccc     6\n",
              "84  chr13  48689572                                             cccccc     6\n",
              "85  chr13  48689573                                             tttttt     6\n",
              "86  chr13  48689574                                             cccccc     6\n",
              "\n",
              "[87 rows x 4 columns]"
            ],
            "text/html": [
              "\n",
              "  <div id=\"df-570236c1-9cb1-4cf5-8fb5-a9f68396bfb0\">\n",
              "    <div class=\"colab-df-container\">\n",
              "      <div>\n",
              "<style scoped>\n",
              "    .dataframe tbody tr th:only-of-type {\n",
              "        vertical-align: middle;\n",
              "    }\n",
              "\n",
              "    .dataframe tbody tr th {\n",
              "        vertical-align: top;\n",
              "    }\n",
              "\n",
              "    .dataframe thead th {\n",
              "        text-align: right;\n",
              "    }\n",
              "</style>\n",
              "<table border=\"1\" class=\"dataframe\">\n",
              "  <thead>\n",
              "    <tr style=\"text-align: right;\">\n",
              "      <th></th>\n",
              "      <th>chrom</th>\n",
              "      <th>pos</th>\n",
              "      <th>matches</th>\n",
              "      <th>base</th>\n",
              "    </tr>\n",
              "  </thead>\n",
              "  <tbody>\n",
              "    <tr>\n",
              "      <th>0</th>\n",
              "      <td>chr13</td>\n",
              "      <td>48689488</td>\n",
              "      <td>GaIaHaIaHaIaIaIaGaIaIaIaIaIaHaIaGaGaGaIaEaDaHaGa</td>\n",
              "      <td>48</td>\n",
              "    </tr>\n",
              "    <tr>\n",
              "      <th>1</th>\n",
              "      <td>chr13</td>\n",
              "      <td>48689489</td>\n",
              "      <td>aaaaaaaaaaaaaaaaaaaaaaaaaIaHaIaGaGaHaIaIaGaGaI...</td>\n",
              "      <td>81</td>\n",
              "    </tr>\n",
              "    <tr>\n",
              "      <th>2</th>\n",
              "      <td>chr13</td>\n",
              "      <td>48689490</td>\n",
              "      <td>tttttttttttttttttttttttttttttttttttttttttttttt...</td>\n",
              "      <td>85</td>\n",
              "    </tr>\n",
              "    <tr>\n",
              "      <th>3</th>\n",
              "      <td>chr13</td>\n",
              "      <td>48689491</td>\n",
              "      <td>aaaaaaaaaaaaaaaaaaaaaaaaaaaaaaaaaaaaaaaaaaaaaa...</td>\n",
              "      <td>141</td>\n",
              "    </tr>\n",
              "    <tr>\n",
              "      <th>4</th>\n",
              "      <td>chr13</td>\n",
              "      <td>48689492</td>\n",
              "      <td>aaaaaaaaaaaaaaaaaaaaaaaaaaaaaaaaaaaaaaaaaaaaaa...</td>\n",
              "      <td>105</td>\n",
              "    </tr>\n",
              "    <tr>\n",
              "      <th>...</th>\n",
              "      <td>...</td>\n",
              "      <td>...</td>\n",
              "      <td>...</td>\n",
              "      <td>...</td>\n",
              "    </tr>\n",
              "    <tr>\n",
              "      <th>82</th>\n",
              "      <td>chr13</td>\n",
              "      <td>48689570</td>\n",
              "      <td>aaaaa</td>\n",
              "      <td>5</td>\n",
              "    </tr>\n",
              "    <tr>\n",
              "      <th>83</th>\n",
              "      <td>chr13</td>\n",
              "      <td>48689571</td>\n",
              "      <td>cccccc</td>\n",
              "      <td>6</td>\n",
              "    </tr>\n",
              "    <tr>\n",
              "      <th>84</th>\n",
              "      <td>chr13</td>\n",
              "      <td>48689572</td>\n",
              "      <td>cccccc</td>\n",
              "      <td>6</td>\n",
              "    </tr>\n",
              "    <tr>\n",
              "      <th>85</th>\n",
              "      <td>chr13</td>\n",
              "      <td>48689573</td>\n",
              "      <td>tttttt</td>\n",
              "      <td>6</td>\n",
              "    </tr>\n",
              "    <tr>\n",
              "      <th>86</th>\n",
              "      <td>chr13</td>\n",
              "      <td>48689574</td>\n",
              "      <td>cccccc</td>\n",
              "      <td>6</td>\n",
              "    </tr>\n",
              "  </tbody>\n",
              "</table>\n",
              "<p>87 rows × 4 columns</p>\n",
              "</div>\n",
              "      <button class=\"colab-df-convert\" onclick=\"convertToInteractive('df-570236c1-9cb1-4cf5-8fb5-a9f68396bfb0')\"\n",
              "              title=\"Convert this dataframe to an interactive table.\"\n",
              "              style=\"display:none;\">\n",
              "        \n",
              "  <svg xmlns=\"http://www.w3.org/2000/svg\" height=\"24px\"viewBox=\"0 0 24 24\"\n",
              "       width=\"24px\">\n",
              "    <path d=\"M0 0h24v24H0V0z\" fill=\"none\"/>\n",
              "    <path d=\"M18.56 5.44l.94 2.06.94-2.06 2.06-.94-2.06-.94-.94-2.06-.94 2.06-2.06.94zm-11 1L8.5 8.5l.94-2.06 2.06-.94-2.06-.94L8.5 2.5l-.94 2.06-2.06.94zm10 10l.94 2.06.94-2.06 2.06-.94-2.06-.94-.94-2.06-.94 2.06-2.06.94z\"/><path d=\"M17.41 7.96l-1.37-1.37c-.4-.4-.92-.59-1.43-.59-.52 0-1.04.2-1.43.59L10.3 9.45l-7.72 7.72c-.78.78-.78 2.05 0 2.83L4 21.41c.39.39.9.59 1.41.59.51 0 1.02-.2 1.41-.59l7.78-7.78 2.81-2.81c.8-.78.8-2.07 0-2.86zM5.41 20L4 18.59l7.72-7.72 1.47 1.35L5.41 20z\"/>\n",
              "  </svg>\n",
              "      </button>\n",
              "      \n",
              "  <style>\n",
              "    .colab-df-container {\n",
              "      display:flex;\n",
              "      flex-wrap:wrap;\n",
              "      gap: 12px;\n",
              "    }\n",
              "\n",
              "    .colab-df-convert {\n",
              "      background-color: #E8F0FE;\n",
              "      border: none;\n",
              "      border-radius: 50%;\n",
              "      cursor: pointer;\n",
              "      display: none;\n",
              "      fill: #1967D2;\n",
              "      height: 32px;\n",
              "      padding: 0 0 0 0;\n",
              "      width: 32px;\n",
              "    }\n",
              "\n",
              "    .colab-df-convert:hover {\n",
              "      background-color: #E2EBFA;\n",
              "      box-shadow: 0px 1px 2px rgba(60, 64, 67, 0.3), 0px 1px 3px 1px rgba(60, 64, 67, 0.15);\n",
              "      fill: #174EA6;\n",
              "    }\n",
              "\n",
              "    [theme=dark] .colab-df-convert {\n",
              "      background-color: #3B4455;\n",
              "      fill: #D2E3FC;\n",
              "    }\n",
              "\n",
              "    [theme=dark] .colab-df-convert:hover {\n",
              "      background-color: #434B5C;\n",
              "      box-shadow: 0px 1px 3px 1px rgba(0, 0, 0, 0.15);\n",
              "      filter: drop-shadow(0px 1px 2px rgba(0, 0, 0, 0.3));\n",
              "      fill: #FFFFFF;\n",
              "    }\n",
              "  </style>\n",
              "\n",
              "      <script>\n",
              "        const buttonEl =\n",
              "          document.querySelector('#df-570236c1-9cb1-4cf5-8fb5-a9f68396bfb0 button.colab-df-convert');\n",
              "        buttonEl.style.display =\n",
              "          google.colab.kernel.accessAllowed ? 'block' : 'none';\n",
              "\n",
              "        async function convertToInteractive(key) {\n",
              "          const element = document.querySelector('#df-570236c1-9cb1-4cf5-8fb5-a9f68396bfb0');\n",
              "          const dataTable =\n",
              "            await google.colab.kernel.invokeFunction('convertToInteractive',\n",
              "                                                     [key], {});\n",
              "          if (!dataTable) return;\n",
              "\n",
              "          const docLinkHtml = 'Like what you see? Visit the ' +\n",
              "            '<a target=\"_blank\" href=https://colab.research.google.com/notebooks/data_table.ipynb>data table notebook</a>'\n",
              "            + ' to learn more about interactive tables.';\n",
              "          element.innerHTML = '';\n",
              "          dataTable['output_type'] = 'display_data';\n",
              "          await google.colab.output.renderOutput(dataTable, element);\n",
              "          const docLink = document.createElement('div');\n",
              "          docLink.innerHTML = docLinkHtml;\n",
              "          element.appendChild(docLink);\n",
              "        }\n",
              "      </script>\n",
              "    </div>\n",
              "  </div>\n",
              "  "
            ]
          },
          "metadata": {},
          "execution_count": 78
        }
      ]
    },
    {
      "cell_type": "markdown",
      "metadata": {
        "id": "NrgJiS2iRhIn"
      },
      "source": [
        "## Shannon Entropy 계산"
      ]
    },
    {
      "cell_type": "code",
      "source": [
        "import math\n",
        "from collections import Counter\n",
        "\n",
        "def entropy(s):\n",
        "\tp, lns = Counter(s), float(len(s))\n",
        "\treturn -sum( count/lns * math.log(count/lns, 2) for count in p.values())"
      ],
      "metadata": {
        "id": "Aja7z16vYdDz"
      },
      "execution_count": 79,
      "outputs": []
    },
    {
      "cell_type": "code",
      "source": [
        "count = ['1','2']\n",
        "dent = pd.Series(count)\n",
        "\n",
        "i = 0\n",
        "while i <= 86:\n",
        "  dent[i] = entropy(pileup['matches'][i])\n",
        "  i += 1"
      ],
      "metadata": {
        "id": "5e-BDjHdcU9e"
      },
      "execution_count": 80,
      "outputs": []
    },
    {
      "cell_type": "code",
      "source": [
        "pileup3 = pileup2\n",
        "pileup3['entropy'] = dent\n",
        "pileup3"
      ],
      "metadata": {
        "colab": {
          "base_uri": "https://localhost:8080/",
          "height": 532
        },
        "id": "YHlKUfgGcVC4",
        "outputId": "86253dfc-cc81-4af6-aaff-b57840a4b904"
      },
      "execution_count": 81,
      "outputs": [
        {
          "output_type": "stream",
          "name": "stderr",
          "text": [
            "/usr/local/lib/python3.7/dist-packages/ipykernel_launcher.py:2: SettingWithCopyWarning: \n",
            "A value is trying to be set on a copy of a slice from a DataFrame.\n",
            "Try using .loc[row_indexer,col_indexer] = value instead\n",
            "\n",
            "See the caveats in the documentation: https://pandas.pydata.org/pandas-docs/stable/user_guide/indexing.html#returning-a-view-versus-a-copy\n",
            "  \n"
          ]
        },
        {
          "output_type": "execute_result",
          "data": {
            "text/plain": [
              "    chrom       pos                                            matches  base  \\\n",
              "0   chr13  48689488   GaIaHaIaHaIaIaIaGaIaIaIaIaIaHaIaGaGaGaIaEaDaHaGa    48   \n",
              "1   chr13  48689489  aaaaaaaaaaaaaaaaaaaaaaaaaIaHaIaGaGaHaIaIaGaGaI...    81   \n",
              "2   chr13  48689490  tttttttttttttttttttttttttttttttttttttttttttttt...    85   \n",
              "3   chr13  48689491  aaaaaaaaaaaaaaaaaaaaaaaaaaaaaaaaaaaaaaaaaaaaaa...   141   \n",
              "4   chr13  48689492  aaaaaaaaaaaaaaaaaaaaaaaaaaaaaaaaaaaaaaaaaaaaaa...   105   \n",
              "..    ...       ...                                                ...   ...   \n",
              "82  chr13  48689570                                              aaaaa     5   \n",
              "83  chr13  48689571                                             cccccc     6   \n",
              "84  chr13  48689572                                             cccccc     6   \n",
              "85  chr13  48689573                                             tttttt     6   \n",
              "86  chr13  48689574                                             cccccc     6   \n",
              "\n",
              "     entropy  \n",
              "0   1.906454  \n",
              "1     1.4998  \n",
              "2   0.988811  \n",
              "3   1.258637  \n",
              "4       -0.0  \n",
              "..       ...  \n",
              "82      -0.0  \n",
              "83      -0.0  \n",
              "84      -0.0  \n",
              "85      -0.0  \n",
              "86      -0.0  \n",
              "\n",
              "[87 rows x 5 columns]"
            ],
            "text/html": [
              "\n",
              "  <div id=\"df-f7f59841-68a8-41e1-8f66-91b0bc5b0b30\">\n",
              "    <div class=\"colab-df-container\">\n",
              "      <div>\n",
              "<style scoped>\n",
              "    .dataframe tbody tr th:only-of-type {\n",
              "        vertical-align: middle;\n",
              "    }\n",
              "\n",
              "    .dataframe tbody tr th {\n",
              "        vertical-align: top;\n",
              "    }\n",
              "\n",
              "    .dataframe thead th {\n",
              "        text-align: right;\n",
              "    }\n",
              "</style>\n",
              "<table border=\"1\" class=\"dataframe\">\n",
              "  <thead>\n",
              "    <tr style=\"text-align: right;\">\n",
              "      <th></th>\n",
              "      <th>chrom</th>\n",
              "      <th>pos</th>\n",
              "      <th>matches</th>\n",
              "      <th>base</th>\n",
              "      <th>entropy</th>\n",
              "    </tr>\n",
              "  </thead>\n",
              "  <tbody>\n",
              "    <tr>\n",
              "      <th>0</th>\n",
              "      <td>chr13</td>\n",
              "      <td>48689488</td>\n",
              "      <td>GaIaHaIaHaIaIaIaGaIaIaIaIaIaHaIaGaGaGaIaEaDaHaGa</td>\n",
              "      <td>48</td>\n",
              "      <td>1.906454</td>\n",
              "    </tr>\n",
              "    <tr>\n",
              "      <th>1</th>\n",
              "      <td>chr13</td>\n",
              "      <td>48689489</td>\n",
              "      <td>aaaaaaaaaaaaaaaaaaaaaaaaaIaHaIaGaGaHaIaIaGaGaI...</td>\n",
              "      <td>81</td>\n",
              "      <td>1.4998</td>\n",
              "    </tr>\n",
              "    <tr>\n",
              "      <th>2</th>\n",
              "      <td>chr13</td>\n",
              "      <td>48689490</td>\n",
              "      <td>tttttttttttttttttttttttttttttttttttttttttttttt...</td>\n",
              "      <td>85</td>\n",
              "      <td>0.988811</td>\n",
              "    </tr>\n",
              "    <tr>\n",
              "      <th>3</th>\n",
              "      <td>chr13</td>\n",
              "      <td>48689491</td>\n",
              "      <td>aaaaaaaaaaaaaaaaaaaaaaaaaaaaaaaaaaaaaaaaaaaaaa...</td>\n",
              "      <td>141</td>\n",
              "      <td>1.258637</td>\n",
              "    </tr>\n",
              "    <tr>\n",
              "      <th>4</th>\n",
              "      <td>chr13</td>\n",
              "      <td>48689492</td>\n",
              "      <td>aaaaaaaaaaaaaaaaaaaaaaaaaaaaaaaaaaaaaaaaaaaaaa...</td>\n",
              "      <td>105</td>\n",
              "      <td>-0.0</td>\n",
              "    </tr>\n",
              "    <tr>\n",
              "      <th>...</th>\n",
              "      <td>...</td>\n",
              "      <td>...</td>\n",
              "      <td>...</td>\n",
              "      <td>...</td>\n",
              "      <td>...</td>\n",
              "    </tr>\n",
              "    <tr>\n",
              "      <th>82</th>\n",
              "      <td>chr13</td>\n",
              "      <td>48689570</td>\n",
              "      <td>aaaaa</td>\n",
              "      <td>5</td>\n",
              "      <td>-0.0</td>\n",
              "    </tr>\n",
              "    <tr>\n",
              "      <th>83</th>\n",
              "      <td>chr13</td>\n",
              "      <td>48689571</td>\n",
              "      <td>cccccc</td>\n",
              "      <td>6</td>\n",
              "      <td>-0.0</td>\n",
              "    </tr>\n",
              "    <tr>\n",
              "      <th>84</th>\n",
              "      <td>chr13</td>\n",
              "      <td>48689572</td>\n",
              "      <td>cccccc</td>\n",
              "      <td>6</td>\n",
              "      <td>-0.0</td>\n",
              "    </tr>\n",
              "    <tr>\n",
              "      <th>85</th>\n",
              "      <td>chr13</td>\n",
              "      <td>48689573</td>\n",
              "      <td>tttttt</td>\n",
              "      <td>6</td>\n",
              "      <td>-0.0</td>\n",
              "    </tr>\n",
              "    <tr>\n",
              "      <th>86</th>\n",
              "      <td>chr13</td>\n",
              "      <td>48689574</td>\n",
              "      <td>cccccc</td>\n",
              "      <td>6</td>\n",
              "      <td>-0.0</td>\n",
              "    </tr>\n",
              "  </tbody>\n",
              "</table>\n",
              "<p>87 rows × 5 columns</p>\n",
              "</div>\n",
              "      <button class=\"colab-df-convert\" onclick=\"convertToInteractive('df-f7f59841-68a8-41e1-8f66-91b0bc5b0b30')\"\n",
              "              title=\"Convert this dataframe to an interactive table.\"\n",
              "              style=\"display:none;\">\n",
              "        \n",
              "  <svg xmlns=\"http://www.w3.org/2000/svg\" height=\"24px\"viewBox=\"0 0 24 24\"\n",
              "       width=\"24px\">\n",
              "    <path d=\"M0 0h24v24H0V0z\" fill=\"none\"/>\n",
              "    <path d=\"M18.56 5.44l.94 2.06.94-2.06 2.06-.94-2.06-.94-.94-2.06-.94 2.06-2.06.94zm-11 1L8.5 8.5l.94-2.06 2.06-.94-2.06-.94L8.5 2.5l-.94 2.06-2.06.94zm10 10l.94 2.06.94-2.06 2.06-.94-2.06-.94-.94-2.06-.94 2.06-2.06.94z\"/><path d=\"M17.41 7.96l-1.37-1.37c-.4-.4-.92-.59-1.43-.59-.52 0-1.04.2-1.43.59L10.3 9.45l-7.72 7.72c-.78.78-.78 2.05 0 2.83L4 21.41c.39.39.9.59 1.41.59.51 0 1.02-.2 1.41-.59l7.78-7.78 2.81-2.81c.8-.78.8-2.07 0-2.86zM5.41 20L4 18.59l7.72-7.72 1.47 1.35L5.41 20z\"/>\n",
              "  </svg>\n",
              "      </button>\n",
              "      \n",
              "  <style>\n",
              "    .colab-df-container {\n",
              "      display:flex;\n",
              "      flex-wrap:wrap;\n",
              "      gap: 12px;\n",
              "    }\n",
              "\n",
              "    .colab-df-convert {\n",
              "      background-color: #E8F0FE;\n",
              "      border: none;\n",
              "      border-radius: 50%;\n",
              "      cursor: pointer;\n",
              "      display: none;\n",
              "      fill: #1967D2;\n",
              "      height: 32px;\n",
              "      padding: 0 0 0 0;\n",
              "      width: 32px;\n",
              "    }\n",
              "\n",
              "    .colab-df-convert:hover {\n",
              "      background-color: #E2EBFA;\n",
              "      box-shadow: 0px 1px 2px rgba(60, 64, 67, 0.3), 0px 1px 3px 1px rgba(60, 64, 67, 0.15);\n",
              "      fill: #174EA6;\n",
              "    }\n",
              "\n",
              "    [theme=dark] .colab-df-convert {\n",
              "      background-color: #3B4455;\n",
              "      fill: #D2E3FC;\n",
              "    }\n",
              "\n",
              "    [theme=dark] .colab-df-convert:hover {\n",
              "      background-color: #434B5C;\n",
              "      box-shadow: 0px 1px 3px 1px rgba(0, 0, 0, 0.15);\n",
              "      filter: drop-shadow(0px 1px 2px rgba(0, 0, 0, 0.3));\n",
              "      fill: #FFFFFF;\n",
              "    }\n",
              "  </style>\n",
              "\n",
              "      <script>\n",
              "        const buttonEl =\n",
              "          document.querySelector('#df-f7f59841-68a8-41e1-8f66-91b0bc5b0b30 button.colab-df-convert');\n",
              "        buttonEl.style.display =\n",
              "          google.colab.kernel.accessAllowed ? 'block' : 'none';\n",
              "\n",
              "        async function convertToInteractive(key) {\n",
              "          const element = document.querySelector('#df-f7f59841-68a8-41e1-8f66-91b0bc5b0b30');\n",
              "          const dataTable =\n",
              "            await google.colab.kernel.invokeFunction('convertToInteractive',\n",
              "                                                     [key], {});\n",
              "          if (!dataTable) return;\n",
              "\n",
              "          const docLinkHtml = 'Like what you see? Visit the ' +\n",
              "            '<a target=\"_blank\" href=https://colab.research.google.com/notebooks/data_table.ipynb>data table notebook</a>'\n",
              "            + ' to learn more about interactive tables.';\n",
              "          element.innerHTML = '';\n",
              "          dataTable['output_type'] = 'display_data';\n",
              "          await google.colab.output.renderOutput(dataTable, element);\n",
              "          const docLink = document.createElement('div');\n",
              "          docLink.innerHTML = docLinkHtml;\n",
              "          element.appendChild(docLink);\n",
              "        }\n",
              "      </script>\n",
              "    </div>\n",
              "  </div>\n",
              "  "
            ]
          },
          "metadata": {},
          "execution_count": 81
        }
      ]
    },
    {
      "cell_type": "code",
      "source": [
        "pileup_final = pileup3[['chrom','pos']]\n",
        "pileup_final['pos2']=pileup3['pos']+1\n",
        "pileup_final['entropy'] = pileup3['entropy']\n",
        "pileup_final"
      ],
      "metadata": {
        "colab": {
          "base_uri": "https://localhost:8080/",
          "height": 641
        },
        "id": "q8uE6xAPeJtz",
        "outputId": "87fa40eb-b9b1-431c-f72d-6b56a981eb45"
      },
      "execution_count": 82,
      "outputs": [
        {
          "output_type": "stream",
          "name": "stderr",
          "text": [
            "/usr/local/lib/python3.7/dist-packages/ipykernel_launcher.py:2: SettingWithCopyWarning: \n",
            "A value is trying to be set on a copy of a slice from a DataFrame.\n",
            "Try using .loc[row_indexer,col_indexer] = value instead\n",
            "\n",
            "See the caveats in the documentation: https://pandas.pydata.org/pandas-docs/stable/user_guide/indexing.html#returning-a-view-versus-a-copy\n",
            "  \n",
            "/usr/local/lib/python3.7/dist-packages/ipykernel_launcher.py:3: SettingWithCopyWarning: \n",
            "A value is trying to be set on a copy of a slice from a DataFrame.\n",
            "Try using .loc[row_indexer,col_indexer] = value instead\n",
            "\n",
            "See the caveats in the documentation: https://pandas.pydata.org/pandas-docs/stable/user_guide/indexing.html#returning-a-view-versus-a-copy\n",
            "  This is separate from the ipykernel package so we can avoid doing imports until\n"
          ]
        },
        {
          "output_type": "execute_result",
          "data": {
            "text/plain": [
              "    chrom       pos      pos2   entropy\n",
              "0   chr13  48689488  48689489  1.906454\n",
              "1   chr13  48689489  48689490    1.4998\n",
              "2   chr13  48689490  48689491  0.988811\n",
              "3   chr13  48689491  48689492  1.258637\n",
              "4   chr13  48689492  48689493      -0.0\n",
              "..    ...       ...       ...       ...\n",
              "82  chr13  48689570  48689571      -0.0\n",
              "83  chr13  48689571  48689572      -0.0\n",
              "84  chr13  48689572  48689573      -0.0\n",
              "85  chr13  48689573  48689574      -0.0\n",
              "86  chr13  48689574  48689575      -0.0\n",
              "\n",
              "[87 rows x 4 columns]"
            ],
            "text/html": [
              "\n",
              "  <div id=\"df-09be7caa-eb23-49e3-9ba7-7bb41630ecaf\">\n",
              "    <div class=\"colab-df-container\">\n",
              "      <div>\n",
              "<style scoped>\n",
              "    .dataframe tbody tr th:only-of-type {\n",
              "        vertical-align: middle;\n",
              "    }\n",
              "\n",
              "    .dataframe tbody tr th {\n",
              "        vertical-align: top;\n",
              "    }\n",
              "\n",
              "    .dataframe thead th {\n",
              "        text-align: right;\n",
              "    }\n",
              "</style>\n",
              "<table border=\"1\" class=\"dataframe\">\n",
              "  <thead>\n",
              "    <tr style=\"text-align: right;\">\n",
              "      <th></th>\n",
              "      <th>chrom</th>\n",
              "      <th>pos</th>\n",
              "      <th>pos2</th>\n",
              "      <th>entropy</th>\n",
              "    </tr>\n",
              "  </thead>\n",
              "  <tbody>\n",
              "    <tr>\n",
              "      <th>0</th>\n",
              "      <td>chr13</td>\n",
              "      <td>48689488</td>\n",
              "      <td>48689489</td>\n",
              "      <td>1.906454</td>\n",
              "    </tr>\n",
              "    <tr>\n",
              "      <th>1</th>\n",
              "      <td>chr13</td>\n",
              "      <td>48689489</td>\n",
              "      <td>48689490</td>\n",
              "      <td>1.4998</td>\n",
              "    </tr>\n",
              "    <tr>\n",
              "      <th>2</th>\n",
              "      <td>chr13</td>\n",
              "      <td>48689490</td>\n",
              "      <td>48689491</td>\n",
              "      <td>0.988811</td>\n",
              "    </tr>\n",
              "    <tr>\n",
              "      <th>3</th>\n",
              "      <td>chr13</td>\n",
              "      <td>48689491</td>\n",
              "      <td>48689492</td>\n",
              "      <td>1.258637</td>\n",
              "    </tr>\n",
              "    <tr>\n",
              "      <th>4</th>\n",
              "      <td>chr13</td>\n",
              "      <td>48689492</td>\n",
              "      <td>48689493</td>\n",
              "      <td>-0.0</td>\n",
              "    </tr>\n",
              "    <tr>\n",
              "      <th>...</th>\n",
              "      <td>...</td>\n",
              "      <td>...</td>\n",
              "      <td>...</td>\n",
              "      <td>...</td>\n",
              "    </tr>\n",
              "    <tr>\n",
              "      <th>82</th>\n",
              "      <td>chr13</td>\n",
              "      <td>48689570</td>\n",
              "      <td>48689571</td>\n",
              "      <td>-0.0</td>\n",
              "    </tr>\n",
              "    <tr>\n",
              "      <th>83</th>\n",
              "      <td>chr13</td>\n",
              "      <td>48689571</td>\n",
              "      <td>48689572</td>\n",
              "      <td>-0.0</td>\n",
              "    </tr>\n",
              "    <tr>\n",
              "      <th>84</th>\n",
              "      <td>chr13</td>\n",
              "      <td>48689572</td>\n",
              "      <td>48689573</td>\n",
              "      <td>-0.0</td>\n",
              "    </tr>\n",
              "    <tr>\n",
              "      <th>85</th>\n",
              "      <td>chr13</td>\n",
              "      <td>48689573</td>\n",
              "      <td>48689574</td>\n",
              "      <td>-0.0</td>\n",
              "    </tr>\n",
              "    <tr>\n",
              "      <th>86</th>\n",
              "      <td>chr13</td>\n",
              "      <td>48689574</td>\n",
              "      <td>48689575</td>\n",
              "      <td>-0.0</td>\n",
              "    </tr>\n",
              "  </tbody>\n",
              "</table>\n",
              "<p>87 rows × 4 columns</p>\n",
              "</div>\n",
              "      <button class=\"colab-df-convert\" onclick=\"convertToInteractive('df-09be7caa-eb23-49e3-9ba7-7bb41630ecaf')\"\n",
              "              title=\"Convert this dataframe to an interactive table.\"\n",
              "              style=\"display:none;\">\n",
              "        \n",
              "  <svg xmlns=\"http://www.w3.org/2000/svg\" height=\"24px\"viewBox=\"0 0 24 24\"\n",
              "       width=\"24px\">\n",
              "    <path d=\"M0 0h24v24H0V0z\" fill=\"none\"/>\n",
              "    <path d=\"M18.56 5.44l.94 2.06.94-2.06 2.06-.94-2.06-.94-.94-2.06-.94 2.06-2.06.94zm-11 1L8.5 8.5l.94-2.06 2.06-.94-2.06-.94L8.5 2.5l-.94 2.06-2.06.94zm10 10l.94 2.06.94-2.06 2.06-.94-2.06-.94-.94-2.06-.94 2.06-2.06.94z\"/><path d=\"M17.41 7.96l-1.37-1.37c-.4-.4-.92-.59-1.43-.59-.52 0-1.04.2-1.43.59L10.3 9.45l-7.72 7.72c-.78.78-.78 2.05 0 2.83L4 21.41c.39.39.9.59 1.41.59.51 0 1.02-.2 1.41-.59l7.78-7.78 2.81-2.81c.8-.78.8-2.07 0-2.86zM5.41 20L4 18.59l7.72-7.72 1.47 1.35L5.41 20z\"/>\n",
              "  </svg>\n",
              "      </button>\n",
              "      \n",
              "  <style>\n",
              "    .colab-df-container {\n",
              "      display:flex;\n",
              "      flex-wrap:wrap;\n",
              "      gap: 12px;\n",
              "    }\n",
              "\n",
              "    .colab-df-convert {\n",
              "      background-color: #E8F0FE;\n",
              "      border: none;\n",
              "      border-radius: 50%;\n",
              "      cursor: pointer;\n",
              "      display: none;\n",
              "      fill: #1967D2;\n",
              "      height: 32px;\n",
              "      padding: 0 0 0 0;\n",
              "      width: 32px;\n",
              "    }\n",
              "\n",
              "    .colab-df-convert:hover {\n",
              "      background-color: #E2EBFA;\n",
              "      box-shadow: 0px 1px 2px rgba(60, 64, 67, 0.3), 0px 1px 3px 1px rgba(60, 64, 67, 0.15);\n",
              "      fill: #174EA6;\n",
              "    }\n",
              "\n",
              "    [theme=dark] .colab-df-convert {\n",
              "      background-color: #3B4455;\n",
              "      fill: #D2E3FC;\n",
              "    }\n",
              "\n",
              "    [theme=dark] .colab-df-convert:hover {\n",
              "      background-color: #434B5C;\n",
              "      box-shadow: 0px 1px 3px 1px rgba(0, 0, 0, 0.15);\n",
              "      filter: drop-shadow(0px 1px 2px rgba(0, 0, 0, 0.3));\n",
              "      fill: #FFFFFF;\n",
              "    }\n",
              "  </style>\n",
              "\n",
              "      <script>\n",
              "        const buttonEl =\n",
              "          document.querySelector('#df-09be7caa-eb23-49e3-9ba7-7bb41630ecaf button.colab-df-convert');\n",
              "        buttonEl.style.display =\n",
              "          google.colab.kernel.accessAllowed ? 'block' : 'none';\n",
              "\n",
              "        async function convertToInteractive(key) {\n",
              "          const element = document.querySelector('#df-09be7caa-eb23-49e3-9ba7-7bb41630ecaf');\n",
              "          const dataTable =\n",
              "            await google.colab.kernel.invokeFunction('convertToInteractive',\n",
              "                                                     [key], {});\n",
              "          if (!dataTable) return;\n",
              "\n",
              "          const docLinkHtml = 'Like what you see? Visit the ' +\n",
              "            '<a target=\"_blank\" href=https://colab.research.google.com/notebooks/data_table.ipynb>data table notebook</a>'\n",
              "            + ' to learn more about interactive tables.';\n",
              "          element.innerHTML = '';\n",
              "          dataTable['output_type'] = 'display_data';\n",
              "          await google.colab.output.renderOutput(dataTable, element);\n",
              "          const docLink = document.createElement('div');\n",
              "          docLink.innerHTML = docLinkHtml;\n",
              "          element.appendChild(docLink);\n",
              "        }\n",
              "      </script>\n",
              "    </div>\n",
              "  </div>\n",
              "  "
            ]
          },
          "metadata": {},
          "execution_count": 82
        }
      ]
    },
    {
      "cell_type": "markdown",
      "source": [
        "NA값 확인 및 Pileup 파일 저장"
      ],
      "metadata": {
        "id": "KlUMjVnNfPE7"
      }
    },
    {
      "cell_type": "code",
      "source": [
        "pileup_let7d = pileup_final.dropna()\n",
        "pileup_let7d.to_csv(\"Mirlet7d.txt\",header=False, index=False, sep='\\t')"
      ],
      "metadata": {
        "id": "FRLGEppwrYuz"
      },
      "execution_count": 83,
      "outputs": []
    },
    {
      "cell_type": "code",
      "source": [
        "pileup_let7d.sort_values(by=['entropy'], axis=0, ascending = False)"
      ],
      "metadata": {
        "colab": {
          "base_uri": "https://localhost:8080/",
          "height": 423
        },
        "id": "pzvRXxp_rm5p",
        "outputId": "78051020-8e90-4d2e-d02e-f9a3a32d09f6"
      },
      "execution_count": 84,
      "outputs": [
        {
          "output_type": "execute_result",
          "data": {
            "text/plain": [
              "    chrom       pos      pos2   entropy\n",
              "0   chr13  48689488  48689489  1.906454\n",
              "1   chr13  48689489  48689490    1.4998\n",
              "41  chr13  48689529  48689530  1.450881\n",
              "39  chr13  48689527  48689528  1.343948\n",
              "3   chr13  48689491  48689492  1.258637\n",
              "..    ...       ...       ...       ...\n",
              "38  chr13  48689526  48689527      -0.0\n",
              "36  chr13  48689524  48689525      -0.0\n",
              "35  chr13  48689523  48689524      -0.0\n",
              "34  chr13  48689522  48689523      -0.0\n",
              "86  chr13  48689574  48689575      -0.0\n",
              "\n",
              "[87 rows x 4 columns]"
            ],
            "text/html": [
              "\n",
              "  <div id=\"df-3946223e-afe5-48fd-834a-fcc4ec5f5b49\">\n",
              "    <div class=\"colab-df-container\">\n",
              "      <div>\n",
              "<style scoped>\n",
              "    .dataframe tbody tr th:only-of-type {\n",
              "        vertical-align: middle;\n",
              "    }\n",
              "\n",
              "    .dataframe tbody tr th {\n",
              "        vertical-align: top;\n",
              "    }\n",
              "\n",
              "    .dataframe thead th {\n",
              "        text-align: right;\n",
              "    }\n",
              "</style>\n",
              "<table border=\"1\" class=\"dataframe\">\n",
              "  <thead>\n",
              "    <tr style=\"text-align: right;\">\n",
              "      <th></th>\n",
              "      <th>chrom</th>\n",
              "      <th>pos</th>\n",
              "      <th>pos2</th>\n",
              "      <th>entropy</th>\n",
              "    </tr>\n",
              "  </thead>\n",
              "  <tbody>\n",
              "    <tr>\n",
              "      <th>0</th>\n",
              "      <td>chr13</td>\n",
              "      <td>48689488</td>\n",
              "      <td>48689489</td>\n",
              "      <td>1.906454</td>\n",
              "    </tr>\n",
              "    <tr>\n",
              "      <th>1</th>\n",
              "      <td>chr13</td>\n",
              "      <td>48689489</td>\n",
              "      <td>48689490</td>\n",
              "      <td>1.4998</td>\n",
              "    </tr>\n",
              "    <tr>\n",
              "      <th>41</th>\n",
              "      <td>chr13</td>\n",
              "      <td>48689529</td>\n",
              "      <td>48689530</td>\n",
              "      <td>1.450881</td>\n",
              "    </tr>\n",
              "    <tr>\n",
              "      <th>39</th>\n",
              "      <td>chr13</td>\n",
              "      <td>48689527</td>\n",
              "      <td>48689528</td>\n",
              "      <td>1.343948</td>\n",
              "    </tr>\n",
              "    <tr>\n",
              "      <th>3</th>\n",
              "      <td>chr13</td>\n",
              "      <td>48689491</td>\n",
              "      <td>48689492</td>\n",
              "      <td>1.258637</td>\n",
              "    </tr>\n",
              "    <tr>\n",
              "      <th>...</th>\n",
              "      <td>...</td>\n",
              "      <td>...</td>\n",
              "      <td>...</td>\n",
              "      <td>...</td>\n",
              "    </tr>\n",
              "    <tr>\n",
              "      <th>38</th>\n",
              "      <td>chr13</td>\n",
              "      <td>48689526</td>\n",
              "      <td>48689527</td>\n",
              "      <td>-0.0</td>\n",
              "    </tr>\n",
              "    <tr>\n",
              "      <th>36</th>\n",
              "      <td>chr13</td>\n",
              "      <td>48689524</td>\n",
              "      <td>48689525</td>\n",
              "      <td>-0.0</td>\n",
              "    </tr>\n",
              "    <tr>\n",
              "      <th>35</th>\n",
              "      <td>chr13</td>\n",
              "      <td>48689523</td>\n",
              "      <td>48689524</td>\n",
              "      <td>-0.0</td>\n",
              "    </tr>\n",
              "    <tr>\n",
              "      <th>34</th>\n",
              "      <td>chr13</td>\n",
              "      <td>48689522</td>\n",
              "      <td>48689523</td>\n",
              "      <td>-0.0</td>\n",
              "    </tr>\n",
              "    <tr>\n",
              "      <th>86</th>\n",
              "      <td>chr13</td>\n",
              "      <td>48689574</td>\n",
              "      <td>48689575</td>\n",
              "      <td>-0.0</td>\n",
              "    </tr>\n",
              "  </tbody>\n",
              "</table>\n",
              "<p>87 rows × 4 columns</p>\n",
              "</div>\n",
              "      <button class=\"colab-df-convert\" onclick=\"convertToInteractive('df-3946223e-afe5-48fd-834a-fcc4ec5f5b49')\"\n",
              "              title=\"Convert this dataframe to an interactive table.\"\n",
              "              style=\"display:none;\">\n",
              "        \n",
              "  <svg xmlns=\"http://www.w3.org/2000/svg\" height=\"24px\"viewBox=\"0 0 24 24\"\n",
              "       width=\"24px\">\n",
              "    <path d=\"M0 0h24v24H0V0z\" fill=\"none\"/>\n",
              "    <path d=\"M18.56 5.44l.94 2.06.94-2.06 2.06-.94-2.06-.94-.94-2.06-.94 2.06-2.06.94zm-11 1L8.5 8.5l.94-2.06 2.06-.94-2.06-.94L8.5 2.5l-.94 2.06-2.06.94zm10 10l.94 2.06.94-2.06 2.06-.94-2.06-.94-.94-2.06-.94 2.06-2.06.94z\"/><path d=\"M17.41 7.96l-1.37-1.37c-.4-.4-.92-.59-1.43-.59-.52 0-1.04.2-1.43.59L10.3 9.45l-7.72 7.72c-.78.78-.78 2.05 0 2.83L4 21.41c.39.39.9.59 1.41.59.51 0 1.02-.2 1.41-.59l7.78-7.78 2.81-2.81c.8-.78.8-2.07 0-2.86zM5.41 20L4 18.59l7.72-7.72 1.47 1.35L5.41 20z\"/>\n",
              "  </svg>\n",
              "      </button>\n",
              "      \n",
              "  <style>\n",
              "    .colab-df-container {\n",
              "      display:flex;\n",
              "      flex-wrap:wrap;\n",
              "      gap: 12px;\n",
              "    }\n",
              "\n",
              "    .colab-df-convert {\n",
              "      background-color: #E8F0FE;\n",
              "      border: none;\n",
              "      border-radius: 50%;\n",
              "      cursor: pointer;\n",
              "      display: none;\n",
              "      fill: #1967D2;\n",
              "      height: 32px;\n",
              "      padding: 0 0 0 0;\n",
              "      width: 32px;\n",
              "    }\n",
              "\n",
              "    .colab-df-convert:hover {\n",
              "      background-color: #E2EBFA;\n",
              "      box-shadow: 0px 1px 2px rgba(60, 64, 67, 0.3), 0px 1px 3px 1px rgba(60, 64, 67, 0.15);\n",
              "      fill: #174EA6;\n",
              "    }\n",
              "\n",
              "    [theme=dark] .colab-df-convert {\n",
              "      background-color: #3B4455;\n",
              "      fill: #D2E3FC;\n",
              "    }\n",
              "\n",
              "    [theme=dark] .colab-df-convert:hover {\n",
              "      background-color: #434B5C;\n",
              "      box-shadow: 0px 1px 3px 1px rgba(0, 0, 0, 0.15);\n",
              "      filter: drop-shadow(0px 1px 2px rgba(0, 0, 0, 0.3));\n",
              "      fill: #FFFFFF;\n",
              "    }\n",
              "  </style>\n",
              "\n",
              "      <script>\n",
              "        const buttonEl =\n",
              "          document.querySelector('#df-3946223e-afe5-48fd-834a-fcc4ec5f5b49 button.colab-df-convert');\n",
              "        buttonEl.style.display =\n",
              "          google.colab.kernel.accessAllowed ? 'block' : 'none';\n",
              "\n",
              "        async function convertToInteractive(key) {\n",
              "          const element = document.querySelector('#df-3946223e-afe5-48fd-834a-fcc4ec5f5b49');\n",
              "          const dataTable =\n",
              "            await google.colab.kernel.invokeFunction('convertToInteractive',\n",
              "                                                     [key], {});\n",
              "          if (!dataTable) return;\n",
              "\n",
              "          const docLinkHtml = 'Like what you see? Visit the ' +\n",
              "            '<a target=\"_blank\" href=https://colab.research.google.com/notebooks/data_table.ipynb>data table notebook</a>'\n",
              "            + ' to learn more about interactive tables.';\n",
              "          element.innerHTML = '';\n",
              "          dataTable['output_type'] = 'display_data';\n",
              "          await google.colab.output.renderOutput(dataTable, element);\n",
              "          const docLink = document.createElement('div');\n",
              "          docLink.innerHTML = docLinkHtml;\n",
              "          element.appendChild(docLink);\n",
              "        }\n",
              "      </script>\n",
              "    </div>\n",
              "  </div>\n",
              "  "
            ]
          },
          "metadata": {},
          "execution_count": 84
        }
      ]
    },
    {
      "cell_type": "code",
      "source": [
        "pileup_let7d.to_csv(\"let7d.bed\", sep=\"\\t\", header=None, index=False)"
      ],
      "metadata": {
        "id": "oY3LfXp-RJNi"
      },
      "execution_count": 85,
      "outputs": []
    },
    {
      "cell_type": "markdown",
      "source": [
        "UCSC Genome Browser에서 Visualization 진행"
      ],
      "metadata": {
        "id": "x_kASAbujCUt"
      }
    },
    {
      "cell_type": "markdown",
      "source": [
        "https://genome.ucsc.edu/ 로 가서 let7d.bed file 업로드.\n",
        "\n",
        "**bed file 위에 추가할 내용:**\n",
        "\n",
        "\n",
        "browser position chr13:48689488-48689575\n",
        "\n",
        "browser pack refGene encodeRegions\n",
        "\n",
        "browser full altGraph\n",
        "\n",
        "track type=bedGraph name=\"Mirlet7d\" description=\"Mirlet7d\" visibility=full color=0,0,0 altColor=0,100,200 priority=20 alwaysZero=on\n",
        "\n",
        "'#chrom chromStart chromEnd entropy"
      ],
      "metadata": {
        "id": "g3fk-RGxmIMO"
      }
    },
    {
      "cell_type": "markdown",
      "source": [
        "![image.png](data:image/png;base64,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)"
      ],
      "metadata": {
        "id": "7gVKHL7vlvOX"
      }
    },
    {
      "cell_type": "markdown",
      "source": [
        "다음주까지 시각화 수정하여 마지막 발표 준비 완료 예정."
      ],
      "metadata": {
        "id": "BhmGy0UIraR3"
      }
    },
    {
      "cell_type": "code",
      "source": [
        ""
      ],
      "metadata": {
        "id": "ZZz7lSA4trLg"
      },
      "execution_count": null,
      "outputs": []
    }
  ]
}